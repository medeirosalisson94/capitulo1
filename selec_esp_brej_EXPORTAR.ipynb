{
 "cells": [
  {
   "cell_type": "markdown",
   "id": "2726578d-d684-4443-9fa9-d652d75c3485",
   "metadata": {
    "tags": []
   },
   "source": [
    "#\n",
    "**MODELAGEM DE DISTRIBUIÇÃO DE ESPÉCIES**"
   ]
  },
  {
   "cell_type": "markdown",
   "id": "cf3e525a-ad2e-4869-9e9d-0a985e0ab948",
   "metadata": {},
   "source": [
    "PRÉ-PROCESSAMENTO DOS DADOS BOTÂNICOS"
   ]
  },
  {
   "cell_type": "code",
   "execution_count": 1,
   "id": "3e97084b-0446-4967-bec1-7d40666dde70",
   "metadata": {
    "tags": []
   },
   "outputs": [
    {
     "name": "stderr",
     "output_type": "stream",
     "text": [
      "C:\\Users\\Alisson Medeiros\\AppData\\Local\\Temp\\ipykernel_19708\\1420472186.py:18: DtypeWarning: Columns (24,38,39,46,48) have mixed types. Specify dtype option on import or set low_memory=False.\n",
      "  inv_bot_ne = pd.read_csv(\"C:\\\\Users\\\\Alisson Medeiros\\\\tese_cap2\\\\0008485-230918134249559.csv\", sep = ';', encoding = 'utf-8')\n"
     ]
    },
    {
     "data": {
      "text/html": [
       "<div>\n",
       "<style scoped>\n",
       "    .dataframe tbody tr th:only-of-type {\n",
       "        vertical-align: middle;\n",
       "    }\n",
       "\n",
       "    .dataframe tbody tr th {\n",
       "        vertical-align: top;\n",
       "    }\n",
       "\n",
       "    .dataframe thead th {\n",
       "        text-align: right;\n",
       "    }\n",
       "</style>\n",
       "<table border=\"1\" class=\"dataframe\">\n",
       "  <thead>\n",
       "    <tr style=\"text-align: right;\">\n",
       "      <th></th>\n",
       "      <th>kingdom</th>\n",
       "      <th>phylum</th>\n",
       "      <th>class</th>\n",
       "      <th>order</th>\n",
       "      <th>family</th>\n",
       "      <th>genus</th>\n",
       "      <th>species</th>\n",
       "      <th>infraspecificEpithet</th>\n",
       "      <th>taxonRank</th>\n",
       "      <th>scientificName</th>\n",
       "      <th>eventDate</th>\n",
       "      <th>institutionCode</th>\n",
       "      <th>latitude</th>\n",
       "      <th>longitude</th>\n",
       "    </tr>\n",
       "  </thead>\n",
       "  <tbody>\n",
       "    <tr>\n",
       "      <th>131</th>\n",
       "      <td>Plantae</td>\n",
       "      <td>Tracheophyta</td>\n",
       "      <td>Magnoliopsida</td>\n",
       "      <td>Fabales</td>\n",
       "      <td>Fabaceae</td>\n",
       "      <td>Chamaecrista</td>\n",
       "      <td>Chamaecrista brachystachya</td>\n",
       "      <td>NaN</td>\n",
       "      <td>SPECIES</td>\n",
       "      <td>Chamaecrista brachystachya (Benth.) Conc.. L.P...</td>\n",
       "      <td>2003-11-10T00:00:00</td>\n",
       "      <td>UFPR</td>\n",
       "      <td>-85.825</td>\n",
       "      <td>-37.240</td>\n",
       "    </tr>\n",
       "    <tr>\n",
       "      <th>192</th>\n",
       "      <td>Plantae</td>\n",
       "      <td>Tracheophyta</td>\n",
       "      <td>Magnoliopsida</td>\n",
       "      <td>Solanales</td>\n",
       "      <td>Solanaceae</td>\n",
       "      <td>Solanum</td>\n",
       "      <td>Solanum paludosum</td>\n",
       "      <td>NaN</td>\n",
       "      <td>SPECIES</td>\n",
       "      <td>Solanum paludosum Moric.</td>\n",
       "      <td>2007-05-07T00:00:00</td>\n",
       "      <td>UFPR</td>\n",
       "      <td>-7.820</td>\n",
       "      <td>-35.010</td>\n",
       "    </tr>\n",
       "    <tr>\n",
       "      <th>515</th>\n",
       "      <td>Plantae</td>\n",
       "      <td>Tracheophyta</td>\n",
       "      <td>Magnoliopsida</td>\n",
       "      <td>Myrtales</td>\n",
       "      <td>Myrtaceae</td>\n",
       "      <td>Eugenia</td>\n",
       "      <td>Eugenia mimus</td>\n",
       "      <td>NaN</td>\n",
       "      <td>SPECIES</td>\n",
       "      <td>Eugenia mimus McVaugh</td>\n",
       "      <td>1994-10-08T00:00:00</td>\n",
       "      <td>JBRJ</td>\n",
       "      <td>-8.310</td>\n",
       "      <td>-36.000</td>\n",
       "    </tr>\n",
       "    <tr>\n",
       "      <th>521</th>\n",
       "      <td>Plantae</td>\n",
       "      <td>Tracheophyta</td>\n",
       "      <td>Magnoliopsida</td>\n",
       "      <td>Myrtales</td>\n",
       "      <td>Myrtaceae</td>\n",
       "      <td>Psidium</td>\n",
       "      <td>Psidium guineense</td>\n",
       "      <td>NaN</td>\n",
       "      <td>SPECIES</td>\n",
       "      <td>Psidium guineense Sw.</td>\n",
       "      <td>1996-05-16T00:00:00</td>\n",
       "      <td>JBRJ</td>\n",
       "      <td>-8.500</td>\n",
       "      <td>-36.000</td>\n",
       "    </tr>\n",
       "    <tr>\n",
       "      <th>582</th>\n",
       "      <td>Plantae</td>\n",
       "      <td>Tracheophyta</td>\n",
       "      <td>Magnoliopsida</td>\n",
       "      <td>Malvales</td>\n",
       "      <td>Malvaceae</td>\n",
       "      <td>Malvastrum</td>\n",
       "      <td>Malvastrum tomentosum</td>\n",
       "      <td>NaN</td>\n",
       "      <td>SPECIES</td>\n",
       "      <td>Malvastrum tomentosum (L.) S.R.Hill</td>\n",
       "      <td>2010-01-11T00:00:00</td>\n",
       "      <td>JBRJ</td>\n",
       "      <td>-8.125</td>\n",
       "      <td>-37.440</td>\n",
       "    </tr>\n",
       "    <tr>\n",
       "      <th>...</th>\n",
       "      <td>...</td>\n",
       "      <td>...</td>\n",
       "      <td>...</td>\n",
       "      <td>...</td>\n",
       "      <td>...</td>\n",
       "      <td>...</td>\n",
       "      <td>...</td>\n",
       "      <td>...</td>\n",
       "      <td>...</td>\n",
       "      <td>...</td>\n",
       "      <td>...</td>\n",
       "      <td>...</td>\n",
       "      <td>...</td>\n",
       "      <td>...</td>\n",
       "    </tr>\n",
       "    <tr>\n",
       "      <th>306869</th>\n",
       "      <td>Plantae</td>\n",
       "      <td>Tracheophyta</td>\n",
       "      <td>Magnoliopsida</td>\n",
       "      <td>Fabales</td>\n",
       "      <td>Fabaceae</td>\n",
       "      <td>Senegalia</td>\n",
       "      <td>Senegalia polyphylla</td>\n",
       "      <td>NaN</td>\n",
       "      <td>SPECIES</td>\n",
       "      <td>Senegalia polyphylla (DC.) Britton &amp; Rose</td>\n",
       "      <td>1970-03-06T00:00:00</td>\n",
       "      <td>US</td>\n",
       "      <td>-7.470</td>\n",
       "      <td>-40.720</td>\n",
       "    </tr>\n",
       "    <tr>\n",
       "      <th>306870</th>\n",
       "      <td>Plantae</td>\n",
       "      <td>Tracheophyta</td>\n",
       "      <td>Magnoliopsida</td>\n",
       "      <td>Gentianales</td>\n",
       "      <td>Rubiaceae</td>\n",
       "      <td>Psychotria</td>\n",
       "      <td>NaN</td>\n",
       "      <td>NaN</td>\n",
       "      <td>GENUS</td>\n",
       "      <td>Psychotria L.</td>\n",
       "      <td>2000-03-29T00:00:00</td>\n",
       "      <td>US</td>\n",
       "      <td>-7.280</td>\n",
       "      <td>-39.550</td>\n",
       "    </tr>\n",
       "    <tr>\n",
       "      <th>306871</th>\n",
       "      <td>Plantae</td>\n",
       "      <td>Tracheophyta</td>\n",
       "      <td>Magnoliopsida</td>\n",
       "      <td>Caryophyllales</td>\n",
       "      <td>Microteaceae</td>\n",
       "      <td>Microtea</td>\n",
       "      <td>Microtea paniculata</td>\n",
       "      <td>NaN</td>\n",
       "      <td>SPECIES</td>\n",
       "      <td>Microtea paniculata Moq.</td>\n",
       "      <td>1995-03-16T00:00:00</td>\n",
       "      <td>US</td>\n",
       "      <td>-8.620</td>\n",
       "      <td>-37.170</td>\n",
       "    </tr>\n",
       "    <tr>\n",
       "      <th>306872</th>\n",
       "      <td>Plantae</td>\n",
       "      <td>Tracheophyta</td>\n",
       "      <td>Magnoliopsida</td>\n",
       "      <td>Malvales</td>\n",
       "      <td>Malvaceae</td>\n",
       "      <td>Guazuma</td>\n",
       "      <td>Guazuma ulmifolia</td>\n",
       "      <td>ulmifolia</td>\n",
       "      <td>VARIETY</td>\n",
       "      <td>Guazuma ulmifolia var. ulmifolia</td>\n",
       "      <td>1998-07-31T00:00:00</td>\n",
       "      <td>US</td>\n",
       "      <td>-75.833</td>\n",
       "      <td>-35.500</td>\n",
       "    </tr>\n",
       "    <tr>\n",
       "      <th>306873</th>\n",
       "      <td>Plantae</td>\n",
       "      <td>Tracheophyta</td>\n",
       "      <td>Magnoliopsida</td>\n",
       "      <td>Sapindales</td>\n",
       "      <td>Sapindaceae</td>\n",
       "      <td>Serjania</td>\n",
       "      <td>Serjania salzmanniana</td>\n",
       "      <td>NaN</td>\n",
       "      <td>SPECIES</td>\n",
       "      <td>Serjania salzmanniana Schltdl.</td>\n",
       "      <td>1997-02-11T00:00:00</td>\n",
       "      <td>US</td>\n",
       "      <td>-78.333</td>\n",
       "      <td>-349.167</td>\n",
       "    </tr>\n",
       "  </tbody>\n",
       "</table>\n",
       "<p>16438 rows × 14 columns</p>\n",
       "</div>"
      ],
      "text/plain": [
       "        kingdom        phylum          class           order        family  \\\n",
       "131     Plantae  Tracheophyta  Magnoliopsida         Fabales      Fabaceae   \n",
       "192     Plantae  Tracheophyta  Magnoliopsida       Solanales    Solanaceae   \n",
       "515     Plantae  Tracheophyta  Magnoliopsida        Myrtales     Myrtaceae   \n",
       "521     Plantae  Tracheophyta  Magnoliopsida        Myrtales     Myrtaceae   \n",
       "582     Plantae  Tracheophyta  Magnoliopsida        Malvales     Malvaceae   \n",
       "...         ...           ...            ...             ...           ...   \n",
       "306869  Plantae  Tracheophyta  Magnoliopsida         Fabales      Fabaceae   \n",
       "306870  Plantae  Tracheophyta  Magnoliopsida     Gentianales     Rubiaceae   \n",
       "306871  Plantae  Tracheophyta  Magnoliopsida  Caryophyllales  Microteaceae   \n",
       "306872  Plantae  Tracheophyta  Magnoliopsida        Malvales     Malvaceae   \n",
       "306873  Plantae  Tracheophyta  Magnoliopsida      Sapindales   Sapindaceae   \n",
       "\n",
       "               genus                     species infraspecificEpithet  \\\n",
       "131     Chamaecrista  Chamaecrista brachystachya                  NaN   \n",
       "192          Solanum           Solanum paludosum                  NaN   \n",
       "515          Eugenia               Eugenia mimus                  NaN   \n",
       "521          Psidium           Psidium guineense                  NaN   \n",
       "582       Malvastrum       Malvastrum tomentosum                  NaN   \n",
       "...              ...                         ...                  ...   \n",
       "306869     Senegalia        Senegalia polyphylla                  NaN   \n",
       "306870    Psychotria                         NaN                  NaN   \n",
       "306871      Microtea         Microtea paniculata                  NaN   \n",
       "306872       Guazuma           Guazuma ulmifolia            ulmifolia   \n",
       "306873      Serjania       Serjania salzmanniana                  NaN   \n",
       "\n",
       "       taxonRank                                     scientificName  \\\n",
       "131      SPECIES  Chamaecrista brachystachya (Benth.) Conc.. L.P...   \n",
       "192      SPECIES                           Solanum paludosum Moric.   \n",
       "515      SPECIES                              Eugenia mimus McVaugh   \n",
       "521      SPECIES                              Psidium guineense Sw.   \n",
       "582      SPECIES                Malvastrum tomentosum (L.) S.R.Hill   \n",
       "...          ...                                                ...   \n",
       "306869   SPECIES          Senegalia polyphylla (DC.) Britton & Rose   \n",
       "306870     GENUS                                      Psychotria L.   \n",
       "306871   SPECIES                           Microtea paniculata Moq.   \n",
       "306872   VARIETY                   Guazuma ulmifolia var. ulmifolia   \n",
       "306873   SPECIES                     Serjania salzmanniana Schltdl.   \n",
       "\n",
       "                  eventDate institutionCode  latitude  longitude  \n",
       "131     2003-11-10T00:00:00            UFPR   -85.825    -37.240  \n",
       "192     2007-05-07T00:00:00            UFPR    -7.820    -35.010  \n",
       "515     1994-10-08T00:00:00            JBRJ    -8.310    -36.000  \n",
       "521     1996-05-16T00:00:00            JBRJ    -8.500    -36.000  \n",
       "582     2010-01-11T00:00:00            JBRJ    -8.125    -37.440  \n",
       "...                     ...             ...       ...        ...  \n",
       "306869  1970-03-06T00:00:00              US    -7.470    -40.720  \n",
       "306870  2000-03-29T00:00:00              US    -7.280    -39.550  \n",
       "306871  1995-03-16T00:00:00              US    -8.620    -37.170  \n",
       "306872  1998-07-31T00:00:00              US   -75.833    -35.500  \n",
       "306873  1997-02-11T00:00:00              US   -78.333   -349.167  \n",
       "\n",
       "[16438 rows x 14 columns]"
      ]
     },
     "execution_count": 1,
     "metadata": {},
     "output_type": "execute_result"
    }
   ],
   "source": [
    "#Importar bibliotecas\n",
    "import pandas as pd\n",
    "import geopandas as gpd\n",
    "\n",
    "#Importar amostras de gêneros coletados em fragmentos florestais considerados brejos de altitude\n",
    "coleta = pd.read_csv(\"C:\\\\Users\\\\Alisson Medeiros\\\\tese_cap2\\\\lista_gêneros_brejo_tese.csv\", sep = ',', encoding = 'utf-8')\n",
    "coleta.head()\n",
    "\n",
    "#Coverter a coluna 'generos_todos_habitos' para lista\n",
    "lista_gen = coleta[\"generos_todos_habitos\"].to_list()\n",
    "lista_gen\n",
    "\n",
    "#Eliminar duplicatas de gêneros\n",
    "lista_gen = set(lista_gen)\n",
    "\n",
    "#Importar dados de levantamentos/inventários botânicos do Nordeste setentrional (Foi necessário, para evitar erros, substituir vírgulas \",\" por pontos \".\" - \n",
    "#em algumas colunas do dataframe. Isso foi feito em planilha antes da importação)\n",
    "inv_bot_ne = pd.read_csv(\"C:\\\\Users\\\\Alisson Medeiros\\\\tese_cap2\\\\0008485-230918134249559.csv\", sep = ';', encoding = 'utf-8')\n",
    "inv_bot_ne.shape#Tamanho do dataframe original: (307440 linhas e 50 colunas)\n",
    "\n",
    "#Selecionar no dataframe original apenas os gêneros coletados nos estudos de inventários de espécies de brejo de altitude (lista_gen)\n",
    "inv_bot_ne=inv_bot_ne[inv_bot_ne['genus'].isin(lista_gen)]\n",
    "inv_bot_ne.shape#Depois de seleção, o dataframe agora passa a ter 196484 linhas e 50 colunas\n",
    "\n",
    "#Eliminar colunas que não serão usadas\n",
    "inv_bot_ne = inv_bot_ne.drop(columns=['gbifID', \n",
    "                        'datasetKey', \n",
    "                        'occurrenceID', \n",
    "                        'verbatimScientificName',\n",
    "                        'verbatimScientificNameAuthorship',\n",
    "                        'countryCode',\n",
    "                        'locality',\n",
    "                        'stateProvince',\n",
    "                        'occurrenceStatus',\n",
    "                        'individualCount',\n",
    "                        'publishingOrgKey',\n",
    "                        'coordinateUncertaintyInMeters',\n",
    "                        'coordinatePrecision',\n",
    "                        'elevation',\n",
    "                        'elevationAccuracy',\n",
    "                        'depth',\n",
    "                        'depthAccuracy',\n",
    "                        'day',\n",
    "                        'month',\n",
    "                        'year',\n",
    "                        'taxonKey',\n",
    "                        'speciesKey',\n",
    "                        'basisOfRecord',\n",
    "                        'collectionCode',\n",
    "                        'catalogNumber',\n",
    "                        'recordNumber',\n",
    "                        'identifiedBy',\n",
    "                        'dateIdentified',\n",
    "                        'license',\n",
    "                        'rightsHolder',\n",
    "                        'recordedBy',\n",
    "                        'typeStatus',\n",
    "                        'establishmentMeans',\n",
    "                        'lastInterpreted',\n",
    "                        'mediaType',\n",
    "                        'issue'\n",
    "                       ])\n",
    "inv_bot_ne.shape#Agora o dataframe possui 196484 linhas 14 colunas\n",
    "\n",
    "inv_bot_ne.dtypes#As colunas 'decimalLatitude' e 'decimalLongitude' não tem dados numéricos\n",
    "\n",
    "#SELECIONAR, NA COLUNA DE 'decimalLatitude', APENAS AS LINHAS QUE CONTÉM COORDENADAS\n",
    "\n",
    "#Converter a coluna para números (se possível) e usar NaN para valores não numéricos. Criar nova coluna para armazenar os valores convertidos\n",
    "inv_bot_ne['latitude'] = pd.to_numeric(inv_bot_ne['decimalLatitude'], errors='coerce')\n",
    "\n",
    "#Selecionar apenas as linhas com valores numéricos. Uma nova coluna foi criada para armazenar coordenadas de latitude, agora em número float\n",
    "inv_bot_ne = inv_bot_ne.dropna(subset=['latitude'])\n",
    "\n",
    "#SELECIONAR, NA COLUNA DE 'decimalLongitude', APENAS AS LINHAS QUE CONTÉM COORDENADAS\n",
    "\n",
    "#Converter a coluna para números (se possível) e usar NaN para valores não numéricos. Criar nova coluna para armazenar os valores convertidos\n",
    "inv_bot_ne['longitude'] = pd.to_numeric(inv_bot_ne['decimalLongitude'], errors='coerce')\n",
    "\n",
    "#Selecionar apenas as linhas com valores numéricos. Uma nova coluna foi criada para armazenar coordenadas de longitude, agora em número float\n",
    "inv_bot_ne = inv_bot_ne.dropna(subset=['longitude'])\n",
    "inv_bot_ne.dtypes#As novas colunas (latitude e longitude) estão no formato float\n",
    "inv_bot_ne.shape##Após a limpeza dos dados de coordenadas, o dataframe tem 16438 linhas 16 colunas\n",
    "\n",
    "#Excluir as colunas 'decimalLatitude' e 'decimalLongitude'\n",
    "inv_bot_ne = inv_bot_ne.drop(columns=['decimalLatitude', 'decimalLongitude'])\n",
    "\n",
    "#Criar Geodataframe a partir do dataframe \"inv_bot_ne\"\n",
    "#inv_bot_ne = gpd.GeoDataFrame(inv_bot_ne, geometry = gpd.points_from_xy(inv_bot_ne.longitude,inv_bot_ne.latitude), crs = \"EPSG:4326\")\n",
    "\n",
    "#Exportar o arquivo como .csv\n",
    "inv_bot_ne.to_csv(\"inv_bot_ne.csv\", sep=',', encoding='utf-8', index = False)\n",
    "#inv_bot_ne 16438 lihas"
   ]
  },
  {
   "cell_type": "markdown",
   "id": "6692f030-7872-4b81-a2af-44daa062bf90",
   "metadata": {},
   "source": [
    "FILTRAR ESPÉCIES"
   ]
  },
  {
   "cell_type": "code",
   "execution_count": 21,
   "id": "61125130-6e3e-41a5-81b8-51c28439ad7a",
   "metadata": {
    "tags": []
   },
   "outputs": [],
   "source": [
    "#Importar bibliotecas\n",
    "import geopandas as gpd\n",
    "import pypdf\n",
    "import pandas as pd\n",
    "from pypdf import PdfReader\n",
    "\n",
    "#Defina os caminhos dos arquivos\n",
    "csv_path = \"C:\\\\Users\\\\Alisson Medeiros\\\\tese_cap2\\\\MDE_GEE\\\\SELEC_esp_bot_brej\\\\inv_bot_ne.csv\"  # Arquivo CSV com as palavras\n",
    "pdf_path = \"C:\\\\Users\\\\Alisson Medeiros\\\\tese_cap2\\\\MDE_GEE\\\\SELEC_esp_bot_brej\\\\tabelas.pdf\"  # Arquivo PDF a ser analisado\n",
    "\n",
    "# Carregar palavras do CSV em um dataframe\n",
    "df = pd.read_csv(csv_path)  \n",
    "coluna_especies = df.iloc[:, 6].astype(str).tolist()  # Pega a primeira coluna como lista de palavras\n",
    "\n",
    "# Criar uma nova lista contendo apenas a segunda palavra de cada item\n",
    "#coluna_especies = [item.split()[1] if len(item.split()) > 1 else item for item in coluna_especies]\n",
    "\n",
    "# Função para extrair texto do PDF usando pypdf.PdfReader\n",
    "def extrair_texto_pdf(pdf_path):\n",
    "    texto = \"\"\n",
    "    reader = PdfReader(pdf_path)  # Abre o PDF\n",
    "    for pagina in reader.pages:\n",
    "        if pagina.extract_text():\n",
    "            texto += pagina.extract_text() + \" \"  # Concatena o texto de todas as páginas\n",
    "    return texto.lower()  # Converte para minúsculas para facilitar a busca\n",
    "\n",
    "# Extrai o texto do PDF\n",
    "texto_pdf = extrair_texto_pdf(pdf_path)\n",
    "\n",
    "# Verifica quais palavras do dataframe estão no texto do PDF\n",
    "especies_encontradas_1 = [palavra for palavra in coluna_especies if palavra.lower() in texto_pdf]\n",
    "\n",
    "#Eliminar duplicatas\n",
    "especies_encontradas_2 = set(especies_encontradas_1)\n",
    "\n",
    "#Selecionar no dataframe original apenas as espécies coletados nos estudos de inventários de espécies de brejo de altitude (especies_encontradas_2)\n",
    "inv_GEN_bot_ne_ = pd.read_csv(csv_path)\n",
    "inv_GEN_bot_ne_ = inv_GEN_bot_ne_[inv_GEN_bot_ne_['species'].isin(especies_encontradas_2)]\n",
    "#inv_GEN_bot_ne_ 7323\n",
    "\n",
    "#Dos 7323, muitos estão com erros nas coordenadas e com falsas localozações. Selecionar espécies que estão no NE setentrional\n",
    "#Importar polígono que representa áreas do relevo do Nordeste setentrional acima de 600 metros\n",
    "AE = gpd.read_file(\"C:\\\\Users\\\\Alisson Medeiros\\\\tese_cap2\\\\shps\\\\recorte_dados_Intersect_BR.shp\")\n",
    "\n",
    "#Selecionar APENAS os pontos que estão dentro do polígono \"pol_600\"\n",
    "inv_GEN_bot_ne_ = gpd.GeoDataFrame(inv_GEN_bot_ne_, geometry = gpd.points_from_xy(inv_GEN_bot_ne_.longitude,inv_GEN_bot_ne_.latitude), crs = \"EPSG:4326\")\n",
    "inv_GEN_bot_ne_ = gpd.sjoin(inv_GEN_bot_ne_, AE, predicate='within', lsuffix='_left', rsuffix='_right')\n",
    "#inv_GEN_bot_ne_ #5216 linhas\n",
    "\n",
    "#Exportar para .csv\n",
    "inv_ESP_ne_ = inv_GEN_bot_ne_.to_csv(\"inv_ESP_ne.csv\", sep=',', encoding='utf-8', index = False)"
   ]
  },
  {
   "cell_type": "code",
   "execution_count": 25,
   "id": "9c23884f-b0e5-456d-b9ea-4cfde4047006",
   "metadata": {
    "tags": []
   },
   "outputs": [
    {
     "name": "stderr",
     "output_type": "stream",
     "text": [
      "C:\\Users\\Alisson Medeiros\\AppData\\Local\\Temp\\ipykernel_19708\\3043270525.py:11: UserWarning: Column names longer than 10 characters will be truncated when saved to ESRI Shapefile.\n",
      "  inv_ESP_ne_GPD.to_file('inv_ESP_ne.shp')\n"
     ]
    }
   ],
   "source": [
    "#Importar bibliotecas\n",
    "import geopandas as gpd\n",
    "import pypdf\n",
    "import pandas as pd\n",
    "from pypdf import PdfReader\n",
    "\n",
    "#MODELO 01 - Modelo 01) registros que ocorriam em todo o Nordeste setentrional;\n",
    "\n",
    "#Exportar o arquivo como .csv\n",
    "#inv_bot_ne.to_csv(\"inv_ESP_ne.csv\", sep=',', encoding='utf-8', index = False)\n",
    "inv_ESP_ne = pd.read_csv(\"C:\\\\Users\\\\Alisson Medeiros\\\\tese_cap2\\\\MDE_GEE\\\\SELEC_esp_bot_brej\\\\inv_ESP_ne.csv\")\n",
    "\n",
    "#Converter em GeoDataFrame\n",
    "inv_ESP_ne_GPD = gpd.GeoDataFrame(inv_ESP_ne, geometry = gpd.points_from_xy(inv_ESP_ne.longitude,inv_ESP_ne.latitude), crs = \"EPSG:4326\")\n",
    "\n",
    "#Exportar o arquivo como .shp\n",
    "inv_ESP_ne_GPD.to_file('inv_ESP_ne.shp')\n",
    "\n",
    "#Converter em GeoDataFrame\n",
    "inv_ESP_ne_GPD = gpd.GeoDataFrame(inv_ESP_ne, geometry=gpd.points_from_xy(inv_ESP_ne.longitude, inv_ESP_ne.latitude),crs=\"EPSG:4326\"\n",
    ")[[\"kingdom\", \"geometry\"]] #Selecionamos a coluna \"kingdom\" para agrupar todos os gêneros\n",
    "\n",
    "#Exportar csv para GEE\n",
    "inv_ESP_ne_GPD.to_csv(\"GEE_inv_ESP_ne.csv\", sep=',', encoding='utf-8', index = False)"
   ]
  },
  {
   "cell_type": "code",
   "execution_count": 29,
   "id": "a0cd75c8-5165-4851-86b2-6030dab97f21",
   "metadata": {
    "tags": []
   },
   "outputs": [
    {
     "name": "stderr",
     "output_type": "stream",
     "text": [
      "C:\\Users\\Alisson Medeiros\\AppData\\Local\\Temp\\ipykernel_9220\\137768760.py:24: UserWarning: Column names longer than 10 characters will be truncated when saved to ESRI Shapefile.\n",
      "  inv_ESP_ne_600.to_file('inv_ESP_ne_600.shp')\n"
     ]
    }
   ],
   "source": [
    "#Importar bibliotecas\n",
    "import geopandas as gpd\n",
    "import pypdf\n",
    "import pandas as pd\n",
    "from pypdf import PdfReader\n",
    "\n",
    "#MODELO 02 - Modelo 02) registros que ocorriam somente acima da cota de 600 metros no recorte estudado; \n",
    "\n",
    "inv_ESP_ne_M2 = pd.read_csv(\"C:\\\\Users\\\\Alisson Medeiros\\\\tese_cap2\\\\MDE_GEE\\\\SELEC_esp_bot_brej\\\\inv_ESP_ne.csv\")\n",
    "inv_ESP_ne_M2_GPD = gpd.GeoDataFrame(inv_ESP_ne_M2, geometry = gpd.points_from_xy(inv_ESP_ne_M2.longitude,inv_ESP_ne_M2.latitude), crs = \"EPSG:4326\")\n",
    "\n",
    "#Importar polígono que representa áreas do relevo do Nordeste setentrional acima de 600 metros\n",
    "pol_600 = gpd.read_file(\"C:\\\\Users\\\\Alisson Medeiros\\\\tese_cap2\\\\shps\\\\600m.shp\")\n",
    "\n",
    "#Selecionar APENAS os pontos que estão dentro do polígono \"pol_600\"\n",
    "inv_ESP_ne_600 = gpd.sjoin(inv_ESP_ne_M2_GPD, pol_600, predicate='within')\n",
    "#inv_ESP_ne_600\n",
    "#inv_ESP_ne_600.explore()\n",
    "\n",
    "#Exportar o arquivo como .csv\n",
    "inv_ESP_ne_600.to_csv(\"inv_ESP_ne_600.csv\", sep=',', encoding='utf-8', index = False)\n",
    "\n",
    "#Exportar o arquivo como .shp\n",
    "inv_ESP_ne_600.to_file('inv_ESP_ne_600.shp')\n",
    "\n",
    "#Converter em GeoDataFrame\n",
    "inv_ESP_ne_600 = gpd.GeoDataFrame(inv_ESP_ne_600, geometry=gpd.points_from_xy(inv_ESP_ne_600.longitude, inv_ESP_ne_600.latitude),crs=\"EPSG:4326\"\n",
    ")[[\"kingdom\", \"geometry\"]] #Selecionamos a coluna \"kingdom\" para agrupar todos os gêneros\n",
    "\n",
    "#Exportar csv para GEE\n",
    "inv_ESP_ne_600.to_csv(\"GEE_inv_ESP_ne_600.csv\", sep=',', encoding='utf-8', index = False)"
   ]
  },
  {
   "cell_type": "code",
   "execution_count": 5,
   "id": "76131c1d-32b8-4e3e-9b88-5d5c81f32bab",
   "metadata": {
    "tags": []
   },
   "outputs": [
    {
     "name": "stderr",
     "output_type": "stream",
     "text": [
      "C:\\Users\\Alisson Medeiros\\AppData\\Local\\Temp\\ipykernel_9220\\3915436377.py:28: UserWarning: Column names longer than 10 characters will be truncated when saved to ESRI Shapefile.\n",
      "  bio_atl_600_ESP_ne.to_file('bio_atl_600_ESP_ne.shp')\n"
     ]
    }
   ],
   "source": [
    "#Importar bibliotecas\n",
    "import geopandas as gpd\n",
    "import pypdf\n",
    "import pandas as pd\n",
    "from pypdf import PdfReader\n",
    "\n",
    "#MODELO 03 - Modelo 03) registros que ocorriam exclusivamente acima da cota de 600 metros e em qualquer altitude no bioma Mata Atlântica na área de estudo.\n",
    "\n",
    "inv_ESP_ne_M3 = pd.read_csv(\"C:\\\\Users\\\\Alisson Medeiros\\\\tese_cap2\\\\MDE_GEE\\\\SELEC_esp_bot_brej\\\\inv_ESP_ne.csv\")\n",
    "inv_ESP_ne_M3_GPD = gpd.GeoDataFrame(inv_ESP_ne_M3, geometry = gpd.points_from_xy(inv_ESP_ne_M3.longitude,inv_ESP_ne_M3.latitude), crs = \"EPSG:4326\")\n",
    "\n",
    "#Importar polígono que representa áreas do relevo do Nordeste setentrional acima de 600 metros + bioma Mata Atlântica\n",
    "bio_atl_600 = gpd.read_file(\"C:\\\\Users\\\\Alisson Medeiros\\\\tese_cap2\\\\shps\\\\600m_bio_atl.shp\")\n",
    "\n",
    "# Se houver colunas \"index_left\" ou \"index_right\", remova antes de fazer o sjoin\n",
    "inv_ESP_ne_M3_GPD = inv_ESP_ne_M3_GPD.drop(columns=['index_left', 'index_right'], errors='ignore')\n",
    "bio_atl_600 = bio_atl_600.drop(columns=['index_left', 'index_right'], errors='ignore')\n",
    "\n",
    "#Selecionar APENAS os pontos que estão dentro do polígono \"pol_600\"\n",
    "bio_atl_600_ESP_ne = gpd.sjoin(inv_ESP_ne_M3_GPD, bio_atl_600, predicate='within')\n",
    "#bio_atl_600_ESP_ne.explore()\n",
    "\n",
    "#Exportar o arquivo como .csv\n",
    "bio_atl_600_ESP_ne.to_csv(\"bio_atl_600_ESP_ne.csv\", sep=',', encoding='utf-8', index = False)\n",
    "#bio_atl_600_ESP_ne 4478\n",
    "\n",
    "#Exportar o arquivo como .shp\n",
    "bio_atl_600_ESP_ne.to_file('bio_atl_600_ESP_ne.shp')\n",
    "\n",
    "#Converter em GeoDataFrame\n",
    "bio_atl_600_ESP_ne = gpd.GeoDataFrame(bio_atl_600_ESP_ne, geometry=gpd.points_from_xy(bio_atl_600_ESP_ne.longitude, bio_atl_600_ESP_ne.latitude),crs=\"EPSG:4326\"\n",
    ")[[\"kingdom\", \"geometry\"]] #Selecionamos a coluna \"kingdom\" para agrupar todos os gêneros\n",
    "\n",
    "#Exportar csv para GEE\n",
    "bio_atl_600_ESP_ne.to_csv(\"GEE_bio_atl_600_ESP_ne.csv\", sep=',', encoding='utf-8', index = False)"
   ]
  },
  {
   "cell_type": "markdown",
   "id": "10f948aa-4c79-458d-9e60-ddd9e181094f",
   "metadata": {},
   "source": [
    "TÁXONS MAIS REPEESENTATIVAS - MODELO 01"
   ]
  },
  {
   "cell_type": "code",
   "execution_count": null,
   "id": "163e8ada-fdf4-4ca6-85da-381c7b50b019",
   "metadata": {
    "tags": []
   },
   "outputs": [],
   "source": [
    "#MODELO 01\n",
    "#Famílias e gêneros mais representativos\n",
    "\n",
    "#Importar pandas\n",
    "import pandas as pd\n",
    "\n",
    "#Importar dataframe\n",
    "M1 = pd.read_csv(\"C:\\\\Users\\\\Alisson Medeiros\\\\tese_cap2\\\\MDE_GEE\\\\SELEC_esp_bot_brej\\\\inv_ESP_ne.csv\", sep=',', encoding='utf-8')\n",
    "M1.shape"
   ]
  },
  {
   "cell_type": "code",
   "execution_count": null,
   "id": "a9ef513c-2482-460f-88f5-fac7b52eb6e4",
   "metadata": {
    "tags": []
   },
   "outputs": [],
   "source": [
    "#Famílias mais representativas\n",
    "M1['family'].value_counts()"
   ]
  },
  {
   "cell_type": "code",
   "execution_count": 5,
   "id": "d242a371-918f-4218-868d-4fb7b5d63917",
   "metadata": {
    "tags": []
   },
   "outputs": [],
   "source": [
    "#Criar dataframe com número de registro por família\n",
    "\n",
    "data_count = M1['family'].value_counts()\n",
    "df_family = pd.DataFrame({'Família': data_count.index, 'Número de registros': data_count.values})\n",
    "df_family.to_csv(\"M1_family_contagem.csv\", sep=',', encoding='utf-8', index = False)"
   ]
  },
  {
   "cell_type": "code",
   "execution_count": null,
   "id": "1da95c65-12f5-4603-9ff8-0889b5cda064",
   "metadata": {
    "tags": []
   },
   "outputs": [],
   "source": [
    "#%\n",
    "M1['family'].value_counts(normalize=True).mul(100)"
   ]
  },
  {
   "cell_type": "code",
   "execution_count": 7,
   "id": "cc818d46-00e7-4e94-80c6-1121aaa47b8e",
   "metadata": {
    "tags": []
   },
   "outputs": [],
   "source": [
    "#Criar dataframe com porcentagem de registro por família\n",
    "\n",
    "data_porcent = M1['family'].value_counts(normalize=True).mul(100)\n",
    "df_family_percent = pd.DataFrame({'Família': data_porcent.index, 'Porcentagem %': data_porcent.values})\n",
    "df_family_percent.to_csv(\"M1_family_percent.csv\", sep=',', encoding='utf-8', index = False)"
   ]
  },
  {
   "cell_type": "code",
   "execution_count": null,
   "id": "3c666821-f02f-4229-bd95-52b76c809b66",
   "metadata": {
    "tags": []
   },
   "outputs": [],
   "source": [
    "#Gêneros mais representativos\n",
    "M1['genus'].value_counts()"
   ]
  },
  {
   "cell_type": "code",
   "execution_count": 9,
   "id": "9eb593cd-00d9-4863-b41f-f0b12c85b32d",
   "metadata": {
    "tags": []
   },
   "outputs": [],
   "source": [
    "#Criar dataframe com número de registro por gênero\n",
    "\n",
    "data_count = M1['genus'].value_counts()\n",
    "df_genus =  pd.DataFrame({'Gênero': data_count.index, 'Número de registros': data_count.values})\n",
    "df_genus.to_csv(\"M1_genus_contagem.csv\", sep=',', encoding='utf-8', index = False)"
   ]
  },
  {
   "cell_type": "code",
   "execution_count": null,
   "id": "d5138c52-9b2e-4855-ab55-131bc853016a",
   "metadata": {
    "tags": []
   },
   "outputs": [],
   "source": [
    "#%\n",
    "M1['genus'].value_counts(normalize=True).mul(100)"
   ]
  },
  {
   "cell_type": "code",
   "execution_count": 11,
   "id": "12efe13e-b2d6-4baa-8921-9d8b1d7e1a93",
   "metadata": {
    "tags": []
   },
   "outputs": [],
   "source": [
    "#Criar dataframe com porcentagem de registro por gênero\n",
    "\n",
    "data_porcent = M1['genus'].value_counts(normalize=True).mul(100)\n",
    "df_genus_percent = pd.DataFrame({'Gênero': data_porcent.index, 'Porcentagem %': data_porcent.values})\n",
    "df_genus_percent.to_csv(\"M1_genus_percent.csv\", sep=',', encoding='utf-8', index = False)"
   ]
  },
  {
   "cell_type": "code",
   "execution_count": null,
   "id": "e3e14f71-3355-4be3-b081-2bec41cc5519",
   "metadata": {
    "tags": []
   },
   "outputs": [],
   "source": [
    "#Espécies mais representativas\n",
    "M1['species'].value_counts()"
   ]
  },
  {
   "cell_type": "code",
   "execution_count": 14,
   "id": "754974f5-2c3e-4382-ad90-53b0861dc75e",
   "metadata": {
    "tags": []
   },
   "outputs": [],
   "source": [
    "#Criar dataframe com número de registro por Espécies\n",
    "\n",
    "data_count = M1['species'].value_counts()\n",
    "df_genus =  pd.DataFrame({'Espécies': data_count.index, 'Número de registros': data_count.values})\n",
    "df_genus.to_csv(\"M1_species_contagem.csv\", sep=',', encoding='utf-8', index = False)"
   ]
  },
  {
   "cell_type": "code",
   "execution_count": null,
   "id": "7bca8917-4b3e-4c2a-8e81-a562ff271399",
   "metadata": {
    "tags": []
   },
   "outputs": [],
   "source": [
    "#%\n",
    "M1['species'].value_counts(normalize=True).mul(100)"
   ]
  },
  {
   "cell_type": "code",
   "execution_count": 16,
   "id": "4d593ca6-46fa-46cf-a537-c08cea233b1c",
   "metadata": {
    "tags": []
   },
   "outputs": [],
   "source": [
    "#Criar dataframe com porcentagem de registro por Espécies\n",
    "\n",
    "data_porcent = M1['species'].value_counts(normalize=True).mul(100)\n",
    "df_genus_percent = pd.DataFrame({'Espécies': data_porcent.index, 'Porcentagem %': data_porcent.values})\n",
    "df_genus_percent.to_csv(\"M1_species_percent.csv\", sep=',', encoding='utf-8', index = False)"
   ]
  },
  {
   "cell_type": "markdown",
   "id": "3f782671-d0b8-4e31-8be0-b689bb91e1c0",
   "metadata": {},
   "source": [
    "TÁXONS MAIS REPEESENTATIVAS - MODELO 02"
   ]
  },
  {
   "cell_type": "code",
   "execution_count": 17,
   "id": "c92e83df-3219-441e-8176-d5b65462f964",
   "metadata": {
    "tags": []
   },
   "outputs": [
    {
     "data": {
      "text/plain": [
       "(1362, 27)"
      ]
     },
     "execution_count": 17,
     "metadata": {},
     "output_type": "execute_result"
    }
   ],
   "source": [
    "#MODELO 02\n",
    "#Famílias e gêneros mais representativos\n",
    "\n",
    "#Importar pandas\n",
    "import pandas as pd\n",
    "\n",
    "#Importar dataframe\n",
    "M2 = pd.read_csv(\"C:\\\\Users\\\\Alisson Medeiros\\\\tese_cap2\\\\MDE_GEE\\\\SELEC_esp_bot_brej\\\\inv_ESP_ne_600.csv\", sep=',', encoding='utf-8')\n",
    "M2.shape"
   ]
  },
  {
   "cell_type": "code",
   "execution_count": 18,
   "id": "4c7c03fa-046e-4133-aab2-67ca082a7127",
   "metadata": {
    "tags": []
   },
   "outputs": [
    {
     "data": {
      "text/plain": [
       "family\n",
       "Fabaceae         323\n",
       "Rubiaceae        192\n",
       "Malvaceae         66\n",
       "Myrtaceae         64\n",
       "Asteraceae        54\n",
       "                ... \n",
       "Marantaceae        1\n",
       "Podocarpaceae      1\n",
       "Hernandiaceae      1\n",
       "Moraceae           1\n",
       "Smilacaceae        1\n",
       "Name: count, Length: 77, dtype: int64"
      ]
     },
     "execution_count": 18,
     "metadata": {},
     "output_type": "execute_result"
    }
   ],
   "source": [
    "#Famílias mais representativas\n",
    "M2['family'].value_counts()"
   ]
  },
  {
   "cell_type": "code",
   "execution_count": 19,
   "id": "c7887a8d-d33c-4955-b7b0-59f854b4402c",
   "metadata": {
    "tags": []
   },
   "outputs": [],
   "source": [
    "#Criar dataframe com número de registro por família\n",
    "\n",
    "data_count = M2['family'].value_counts()\n",
    "df_family = pd.DataFrame({'Família': data_count.index, 'Número de registros': data_count.values})\n",
    "df_family.to_csv(\"M2_family_contagem.csv\", sep=',', encoding='utf-8', index = False)"
   ]
  },
  {
   "cell_type": "code",
   "execution_count": 20,
   "id": "e245caa7-8eea-4499-9d9b-cc57eddc965c",
   "metadata": {
    "tags": []
   },
   "outputs": [
    {
     "data": {
      "text/plain": [
       "family\n",
       "Fabaceae         23.715125\n",
       "Rubiaceae        14.096916\n",
       "Malvaceae         4.845815\n",
       "Myrtaceae         4.698972\n",
       "Asteraceae        3.964758\n",
       "                   ...    \n",
       "Marantaceae       0.073421\n",
       "Podocarpaceae     0.073421\n",
       "Hernandiaceae     0.073421\n",
       "Moraceae          0.073421\n",
       "Smilacaceae       0.073421\n",
       "Name: proportion, Length: 77, dtype: float64"
      ]
     },
     "execution_count": 20,
     "metadata": {},
     "output_type": "execute_result"
    }
   ],
   "source": [
    "#%\n",
    "M2['family'].value_counts(normalize=True).mul(100)"
   ]
  },
  {
   "cell_type": "code",
   "execution_count": 21,
   "id": "4bcb7381-538d-46ea-9d2b-9498109297c5",
   "metadata": {
    "tags": []
   },
   "outputs": [],
   "source": [
    "#Criar dataframe com porcentagem de registro por família\n",
    "\n",
    "data_porcent = M2['family'].value_counts(normalize=True).mul(100)\n",
    "df_family_percent = pd.DataFrame({'Família': data_porcent.index, 'Porcentagem %': data_porcent.values})\n",
    "df_family_percent.to_csv(\"M2_family_percent.csv\", sep=',', encoding='utf-8', index = False)"
   ]
  },
  {
   "cell_type": "code",
   "execution_count": 22,
   "id": "956971cd-dc3b-4322-bf9e-246e7e8107f4",
   "metadata": {
    "tags": []
   },
   "outputs": [
    {
     "data": {
      "text/plain": [
       "genus\n",
       "Cordiera        72\n",
       "Senna           49\n",
       "Myrcia          49\n",
       "Solanum         42\n",
       "Stylosanthes    36\n",
       "                ..\n",
       "Sebastiania      1\n",
       "Luehea           1\n",
       "Aspilia          1\n",
       "Garcinia         1\n",
       "Hamelia          1\n",
       "Name: count, Length: 218, dtype: int64"
      ]
     },
     "execution_count": 22,
     "metadata": {},
     "output_type": "execute_result"
    }
   ],
   "source": [
    "#Gêneros mais representativos\n",
    "M2['genus'].value_counts()"
   ]
  },
  {
   "cell_type": "code",
   "execution_count": 23,
   "id": "b8f4ec96-d349-4371-b6b0-fcf716d85f5b",
   "metadata": {
    "tags": []
   },
   "outputs": [],
   "source": [
    "#Criar dataframe com número de registro por gênero\n",
    "\n",
    "data_count = M2['genus'].value_counts()\n",
    "df_genus =  pd.DataFrame({'Gênero': data_count.index, 'Número de registros': data_count.values})\n",
    "df_genus.to_csv(\"M2_genus_contagem.csv\", sep=',', encoding='utf-8', index = False)"
   ]
  },
  {
   "cell_type": "code",
   "execution_count": 24,
   "id": "e2b94309-a888-434d-8bbb-cebc717371d8",
   "metadata": {
    "tags": []
   },
   "outputs": [
    {
     "data": {
      "text/plain": [
       "genus\n",
       "Cordiera        5.286344\n",
       "Senna           3.597651\n",
       "Myrcia          3.597651\n",
       "Solanum         3.083700\n",
       "Stylosanthes    2.643172\n",
       "                  ...   \n",
       "Sebastiania     0.073421\n",
       "Luehea          0.073421\n",
       "Aspilia         0.073421\n",
       "Garcinia        0.073421\n",
       "Hamelia         0.073421\n",
       "Name: proportion, Length: 218, dtype: float64"
      ]
     },
     "execution_count": 24,
     "metadata": {},
     "output_type": "execute_result"
    }
   ],
   "source": [
    "#%\n",
    "M2['genus'].value_counts(normalize=True).mul(100)"
   ]
  },
  {
   "cell_type": "code",
   "execution_count": 25,
   "id": "6a91fcc1-988f-4765-b924-8637be2f91a7",
   "metadata": {
    "tags": []
   },
   "outputs": [],
   "source": [
    "#Criar dataframe com porcentagem de registro por gênero\n",
    "\n",
    "data_porcent = M2['genus'].value_counts(normalize=True).mul(100)\n",
    "df_genus_percent = pd.DataFrame({'Gênero': data_porcent.index, 'Porcentagem %': data_porcent.values})\n",
    "df_genus_percent.to_csv(\"M2_genus_percent.csv\", sep=',', encoding='utf-8', index = False)"
   ]
  },
  {
   "cell_type": "code",
   "execution_count": 26,
   "id": "c7944270-95ab-4977-b061-2225f79f3c83",
   "metadata": {
    "tags": []
   },
   "outputs": [
    {
     "data": {
      "text/plain": [
       "species\n",
       "Cordiera rigida           40\n",
       "Cordiera sessilis         20\n",
       "Stylosanthes viscosa      19\n",
       "Senegalia polyphylla      17\n",
       "Simarouba amara           17\n",
       "                          ..\n",
       "Aspilia andrade-limae      1\n",
       "Ichnanthus calvescens      1\n",
       "Sebastiania macrocarpa     1\n",
       "Bidens bipinnata           1\n",
       "Sabicea cinerea            1\n",
       "Name: count, Length: 361, dtype: int64"
      ]
     },
     "execution_count": 26,
     "metadata": {},
     "output_type": "execute_result"
    }
   ],
   "source": [
    "#Espécies mais representativas\n",
    "M2['species'].value_counts()"
   ]
  },
  {
   "cell_type": "code",
   "execution_count": 27,
   "id": "60305b3a-3a0e-4917-82b3-d302d4f03c24",
   "metadata": {
    "tags": []
   },
   "outputs": [],
   "source": [
    "#Criar dataframe com número de registro por Espécies\n",
    "\n",
    "data_count = M2['species'].value_counts()\n",
    "df_genus =  pd.DataFrame({'Espécies': data_count.index, 'Número de registros': data_count.values})\n",
    "df_genus.to_csv(\"M2_species_contagem.csv\", sep=',', encoding='utf-8', index = False)"
   ]
  },
  {
   "cell_type": "code",
   "execution_count": 28,
   "id": "4cc2edb1-657c-4849-96eb-9386aa236e92",
   "metadata": {
    "tags": []
   },
   "outputs": [
    {
     "data": {
      "text/plain": [
       "species\n",
       "Cordiera rigida           2.936858\n",
       "Cordiera sessilis         1.468429\n",
       "Stylosanthes viscosa      1.395007\n",
       "Senegalia polyphylla      1.248164\n",
       "Simarouba amara           1.248164\n",
       "                            ...   \n",
       "Aspilia andrade-limae     0.073421\n",
       "Ichnanthus calvescens     0.073421\n",
       "Sebastiania macrocarpa    0.073421\n",
       "Bidens bipinnata          0.073421\n",
       "Sabicea cinerea           0.073421\n",
       "Name: proportion, Length: 361, dtype: float64"
      ]
     },
     "execution_count": 28,
     "metadata": {},
     "output_type": "execute_result"
    }
   ],
   "source": [
    "#%\n",
    "M2['species'].value_counts(normalize=True).mul(100)"
   ]
  },
  {
   "cell_type": "code",
   "execution_count": 29,
   "id": "85ee6a05-3a57-4577-9569-2a529d32439b",
   "metadata": {
    "tags": []
   },
   "outputs": [],
   "source": [
    "#Criar dataframe com porcentagem de registro por Espécies\n",
    "\n",
    "data_porcent = M2['species'].value_counts(normalize=True).mul(100)\n",
    "df_genus_percent = pd.DataFrame({'Espécies': data_porcent.index, 'Porcentagem %': data_porcent.values})\n",
    "df_genus_percent.to_csv(\"M2_species_percent.csv\", sep=',', encoding='utf-8', index = False)"
   ]
  },
  {
   "cell_type": "markdown",
   "id": "1e7655b9-eca7-4d16-b9b3-3350bf0e6bc6",
   "metadata": {},
   "source": [
    "TÁXONS MAIS REPEESENTATIVAS - MODELO 03"
   ]
  },
  {
   "cell_type": "code",
   "execution_count": 6,
   "id": "a55a6470-00af-44cc-8d4a-ddc610ed4945",
   "metadata": {
    "tags": []
   },
   "outputs": [
    {
     "data": {
      "text/plain": [
       "(2083, 29)"
      ]
     },
     "execution_count": 6,
     "metadata": {},
     "output_type": "execute_result"
    }
   ],
   "source": [
    "#MODELO 03\n",
    "#Famílias e gêneros mais representativos\n",
    "\n",
    "#Importar pandas\n",
    "import pandas as pd\n",
    "\n",
    "#Importar dataframe\n",
    "M3 = pd.read_csv(\"C:\\\\Users\\\\Alisson Medeiros\\\\tese_cap2\\\\MDE_GEE\\\\SELEC_esp_bot_brej\\\\bio_atl_600_ESP_ne.csv\", sep=',', encoding='utf-8')\n",
    "M3.shape"
   ]
  },
  {
   "cell_type": "code",
   "execution_count": 7,
   "id": "269c80d6-0ca0-435e-a00c-a2e26d3ec4b4",
   "metadata": {
    "tags": []
   },
   "outputs": [
    {
     "data": {
      "text/plain": [
       "family\n",
       "Fabaceae            418\n",
       "Rubiaceae           248\n",
       "Myrtaceae           122\n",
       "Malvaceae            99\n",
       "Asteraceae           94\n",
       "                   ... \n",
       "Hernandiaceae         1\n",
       "Urticaceae            1\n",
       "Iridaceae             1\n",
       "Alstroemeriaceae      1\n",
       "Ebenaceae             1\n",
       "Name: count, Length: 87, dtype: int64"
      ]
     },
     "execution_count": 7,
     "metadata": {},
     "output_type": "execute_result"
    }
   ],
   "source": [
    "#Famílias mais representativas\n",
    "M3['family'].value_counts()"
   ]
  },
  {
   "cell_type": "code",
   "execution_count": 8,
   "id": "9be56e39-d256-449e-b8df-7db88bc330c2",
   "metadata": {
    "tags": []
   },
   "outputs": [],
   "source": [
    "#Criar dataframe com número de registro por família\n",
    "\n",
    "data_count = M3['family'].value_counts()\n",
    "df_family = pd.DataFrame({'Família': data_count.index, 'Número de registros': data_count.values})\n",
    "df_family.to_csv(\"M3_family_contagem.csv\", sep=',', encoding='utf-8', index = False)"
   ]
  },
  {
   "cell_type": "code",
   "execution_count": 9,
   "id": "ef40fa1d-7bf0-4695-b725-011267ff267e",
   "metadata": {
    "tags": []
   },
   "outputs": [
    {
     "data": {
      "text/plain": [
       "family\n",
       "Fabaceae            20.067211\n",
       "Rubiaceae           11.905905\n",
       "Myrtaceae            5.856937\n",
       "Malvaceae            4.752760\n",
       "Asteraceae           4.512722\n",
       "                      ...    \n",
       "Hernandiaceae        0.048008\n",
       "Urticaceae           0.048008\n",
       "Iridaceae            0.048008\n",
       "Alstroemeriaceae     0.048008\n",
       "Ebenaceae            0.048008\n",
       "Name: proportion, Length: 87, dtype: float64"
      ]
     },
     "execution_count": 9,
     "metadata": {},
     "output_type": "execute_result"
    }
   ],
   "source": [
    "#%\n",
    "M3['family'].value_counts(normalize=True).mul(100)"
   ]
  },
  {
   "cell_type": "code",
   "execution_count": 10,
   "id": "cf133917-4f37-4b31-ac0d-8983ead3b0d5",
   "metadata": {
    "tags": []
   },
   "outputs": [],
   "source": [
    "#Criar dataframe com porcentagem de registro por família\n",
    "\n",
    "data_porcent = M3['family'].value_counts(normalize=True).mul(100)\n",
    "df_family_percent = pd.DataFrame({'Família': data_porcent.index, 'Porcentagem %': data_porcent.values})\n",
    "df_family_percent.to_csv(\"M3_family_percent.csv\", sep=',', encoding='utf-8', index = False)"
   ]
  },
  {
   "cell_type": "code",
   "execution_count": 11,
   "id": "e40357de-d67f-4bc8-9338-1051c7255a79",
   "metadata": {
    "tags": []
   },
   "outputs": [
    {
     "data": {
      "text/plain": [
       "genus\n",
       "Myrcia          91\n",
       "Solanum         81\n",
       "Cordiera        72\n",
       "Senna           64\n",
       "Stylosanthes    46\n",
       "                ..\n",
       "Desmodium        1\n",
       "Calopogonium     1\n",
       "Pleopeltis       1\n",
       "Bidens           1\n",
       "Hamelia          1\n",
       "Name: count, Length: 264, dtype: int64"
      ]
     },
     "execution_count": 11,
     "metadata": {},
     "output_type": "execute_result"
    }
   ],
   "source": [
    "#Gêneros mais representativos\n",
    "M3['genus'].value_counts()"
   ]
  },
  {
   "cell_type": "code",
   "execution_count": 12,
   "id": "41a6fcdb-9856-4b36-9fa2-f60601139825",
   "metadata": {
    "tags": []
   },
   "outputs": [],
   "source": [
    "#Criar dataframe com número de registro por gênero\n",
    "\n",
    "data_count = M3['genus'].value_counts()\n",
    "df_genus =  pd.DataFrame({'Gênero': data_count.index, 'Número de registros': data_count.values})\n",
    "df_genus.to_csv(\"M3_genus_contagem.csv\", sep=',', encoding='utf-8', index = False)"
   ]
  },
  {
   "cell_type": "code",
   "execution_count": 13,
   "id": "8c976f0b-58f6-4607-967f-cd3974f6544e",
   "metadata": {
    "tags": []
   },
   "outputs": [
    {
     "data": {
      "text/plain": [
       "genus\n",
       "Myrcia          4.368699\n",
       "Solanum         3.888622\n",
       "Cordiera        3.456553\n",
       "Senna           3.072492\n",
       "Stylosanthes    2.208353\n",
       "                  ...   \n",
       "Desmodium       0.048008\n",
       "Calopogonium    0.048008\n",
       "Pleopeltis      0.048008\n",
       "Bidens          0.048008\n",
       "Hamelia         0.048008\n",
       "Name: proportion, Length: 264, dtype: float64"
      ]
     },
     "execution_count": 13,
     "metadata": {},
     "output_type": "execute_result"
    }
   ],
   "source": [
    "#%\n",
    "M3['genus'].value_counts(normalize=True).mul(100)"
   ]
  },
  {
   "cell_type": "code",
   "execution_count": 14,
   "id": "1d1bcac9-e866-4ef7-b248-98ffd9ffc0c0",
   "metadata": {
    "tags": []
   },
   "outputs": [],
   "source": [
    "#Criar dataframe com porcentagem de registro por gênero\n",
    "\n",
    "data_porcent = M3['genus'].value_counts(normalize=True).mul(100)\n",
    "df_genus_percent = pd.DataFrame({'Gênero': data_porcent.index, 'Porcentagem %': data_porcent.values})\n",
    "df_genus_percent.to_csv(\"M3_genus_percent.csv\", sep=',', encoding='utf-8', index = False)"
   ]
  },
  {
   "cell_type": "code",
   "execution_count": 15,
   "id": "2470d1fa-bff8-402d-bf10-c32dbee1544c",
   "metadata": {
    "tags": []
   },
   "outputs": [
    {
     "data": {
      "text/plain": [
       "species\n",
       "Cordiera rigida          40\n",
       "Stylosanthes viscosa     26\n",
       "Myrcia guianensis        24\n",
       "Palicourea marcgravii    20\n",
       "Myrcia splendens         20\n",
       "                         ..\n",
       "Sidastrum micranthum      1\n",
       "Gallesia integrifolia     1\n",
       "Pouteria venosa           1\n",
       "Caladium bicolor          1\n",
       "Mimosa acutistipula       1\n",
       "Name: count, Length: 457, dtype: int64"
      ]
     },
     "execution_count": 15,
     "metadata": {},
     "output_type": "execute_result"
    }
   ],
   "source": [
    "#Espécies mais representativas\n",
    "M3['species'].value_counts()"
   ]
  },
  {
   "cell_type": "code",
   "execution_count": 16,
   "id": "e2452c8d-520d-435b-a6a8-4c7ed6d330ac",
   "metadata": {
    "tags": []
   },
   "outputs": [],
   "source": [
    "#Criar dataframe com número de registro por Espécies\n",
    "\n",
    "data_count = M3['species'].value_counts()\n",
    "df_genus =  pd.DataFrame({'Espécies': data_count.index, 'Número de registros': data_count.values})\n",
    "df_genus.to_csv(\"M3_species_contagem.csv\", sep=',', encoding='utf-8', index = False)"
   ]
  },
  {
   "cell_type": "code",
   "execution_count": 17,
   "id": "30802cea-bbe3-42cc-8078-69d9ac4918d0",
   "metadata": {
    "tags": []
   },
   "outputs": [
    {
     "data": {
      "text/plain": [
       "species\n",
       "Cordiera rigida          1.920307\n",
       "Stylosanthes viscosa     1.248200\n",
       "Myrcia guianensis        1.152184\n",
       "Palicourea marcgravii    0.960154\n",
       "Myrcia splendens         0.960154\n",
       "                           ...   \n",
       "Sidastrum micranthum     0.048008\n",
       "Gallesia integrifolia    0.048008\n",
       "Pouteria venosa          0.048008\n",
       "Caladium bicolor         0.048008\n",
       "Mimosa acutistipula      0.048008\n",
       "Name: proportion, Length: 457, dtype: float64"
      ]
     },
     "execution_count": 17,
     "metadata": {},
     "output_type": "execute_result"
    }
   ],
   "source": [
    "#%\n",
    "M3['species'].value_counts(normalize=True).mul(100)"
   ]
  },
  {
   "cell_type": "code",
   "execution_count": 18,
   "id": "29ff4690-2a7a-401d-9d51-a067e73a8adb",
   "metadata": {
    "tags": []
   },
   "outputs": [],
   "source": [
    "#Criar dataframe com porcentagem de registro por Espécies\n",
    "\n",
    "data_porcent = M3['species'].value_counts(normalize=True).mul(100)\n",
    "df_genus_percent = pd.DataFrame({'Espécies': data_porcent.index, 'Porcentagem %': data_porcent.values})\n",
    "df_genus_percent.to_csv(\"M3_species_percent.csv\", sep=',', encoding='utf-8', index = False)"
   ]
  },
  {
   "cell_type": "code",
   "execution_count": null,
   "id": "c1ae6e52-94b0-422d-9530-9665758c10fa",
   "metadata": {
    "tags": []
   },
   "outputs": [],
   "source": [
    "import ee\n",
    "\n",
    "#Autenticar API no GEE.\n",
    "ee.Authenticate()\n",
    "\n",
    "#Conectar ao projeto.\n",
    "ee.Initialize(project='ee-geetese075')"
   ]
  },
  {
   "cell_type": "code",
   "execution_count": null,
   "id": "98cf9478-fb6b-41cb-9877-8e9b18969c4c",
   "metadata": {
    "tags": []
   },
   "outputs": [],
   "source": [
    "#Importar bibliotecas importantes\n",
    "import geemap\n",
    "\n",
    "import geemap.colormaps as cm\n",
    "import pandas as pd, geopandas as gpd\n",
    "import numpy as np, matplotlib.pyplot as plt\n",
    "import os, requests, math, random\n",
    "\n",
    "from ipyleaflet import TileLayer\n",
    "from statsmodels.stats.outliers_influence import variance_inflation_factor"
   ]
  },
  {
   "cell_type": "code",
   "execution_count": null,
   "id": "80e84888-7b3e-401e-8143-539d80400535",
   "metadata": {
    "tags": []
   },
   "outputs": [],
   "source": [
    "#BOTS 600 m\n",
    "#Importar bibliotecas\n",
    "import pandas as pd\n",
    "import geopandas as gpd\n",
    "\n",
    "#Importar dataframe dos gêneros para todo o NE Setentrional\n",
    "bot_ne = pd.read_csv(\"C:\\\\Users\\\\Alisson Medeiros\\\\tese_cap2\\\\MDE_GEE\\\\dados_bots_NE\\\\esp_amos_serras.csv\")\n",
    "\n",
    "#Converter em GeoDataFrame\n",
    "bot_ne = gpd.GeoDataFrame(bot_ne, geometry=gpd.points_from_xy(bot_ne.longitude, bot_ne.latitude),crs=\"EPSG:4326\"\n",
    ")[[\"kingdom\", \"geometry\"]] #Selecionamos a coluna \"kingdom\" para agrupar todos os gêneros\n",
    "\n",
    "#Converter GeoDataFrame para um arquivo GeoPackage (*.gpkg)\n",
    "\n",
    "#Requer a instalação de um módulo específico\n",
    "#!pip install -U -q pycrs\n",
    "bot_ne.to_file(\"C:\\\\Users\\\\Alisson Medeiros\\\\tese_cap2\\\\MDE_GEE\\\\dados_bots_NE\\\\esp_amos_serras_data.gpkg\", driver=\"GPKG\")\n",
    "bot_ne = gpd.read_file(\"C:\\\\Users\\\\Alisson Medeiros\\\\tese_cap2\\\\MDE_GEE\\\\dados_bots_NE\\\\esp_amos_serras_data.gpkg\")\n",
    "\n",
    "#Converter GeoDataFrame para Earth Engine object\n",
    "bot_ne_gee = geemap.geopandas_to_ee(bot_ne)\n",
    "\n",
    "#Configurar resoluão espacial da modelagem de distribuição de gêneros (metros)\n",
    "grade_res = 1000 #Ou 1 km"
   ]
  },
  {
   "cell_type": "code",
   "execution_count": null,
   "id": "5e6bb803-1f2b-40b9-897b-c1f67fd2c59d",
   "metadata": {
    "tags": []
   },
   "outputs": [],
   "source": [
    "#Importar bibliotecas\n",
    "import pandas as pd\n",
    "import geopandas as gpd\n",
    "\n",
    "#Importar dataframe dos gêneros para todo o NE Setentrional\n",
    "bot_ne_600m = pd.read_csv(\"C:\\\\Users\\\\Alisson Medeiros\\\\tese_cap2\\\\MDE_GEE\\\\dados_bots_NE\\\\esp_amos_serras.csv\")\n",
    "\n",
    "#Converter em GeoDataFrame\n",
    "bot_ne_600m = gpd.GeoDataFrame(bot_ne_600m, geometry=gpd.points_from_xy(bot_ne_600m.longitude, bot_ne_600m.latitude),crs=\"EPSG:4326\"\n",
    ")[[\"kingdom\", \"geometry\"]] #Selecionamos a coluna \"kingdom\" para agrupar todos os gêneros\n",
    "\n",
    "#Exportar o arquivo como .csv\n",
    "bot_ne_600m.to_csv(\"C:\\\\Users\\\\Alisson Medeiros\\\\tese_cap2\\\\MDE_GEE\\\\dados_bots_NE\\\\GEE_bot_ne_600m_esp_amos_serras.csv\", sep=',', encoding='utf-8', index = False)"
   ]
  },
  {
   "cell_type": "code",
   "execution_count": null,
   "id": "f586a4f0-0f41-48a9-9aa0-e40a38028fc7",
   "metadata": {
    "tags": []
   },
   "outputs": [],
   "source": [
    "#Limitar o impacto potencial do viés de amostragem geográfica (reter 1 local dentro de cada pixel de 1 km)\n",
    "\n",
    "def remover_duplicatas(data, grade_res):\n",
    "    #Reter 1 local dentro de cada pixel de 1 km\n",
    "    random_raster = ee.Image.random().reproject(\"EPSG:4326\", None, grade_res)\n",
    "    rand_point_vals = random_raster.sampleRegions(\n",
    "        collection=ee.FeatureCollection(data), geometries=True\n",
    "    )\n",
    "    return rand_point_vals.distinct(\"random\")\n",
    "\n",
    "\n",
    "data = remover_duplicatas(bot_ne_gee, grade_res)\n",
    "\n",
    "# Before selection and after selection\n",
    "print(\"Original bot_ne_gee:\", bot_ne_gee.size().getInfo())\n",
    "print(\"Final bot_ne_gee:\", data.size().getInfo())"
   ]
  },
  {
   "cell_type": "code",
   "execution_count": null,
   "id": "5051fa24-285a-4818-8817-4e42c883fabe",
   "metadata": {
    "tags": []
   },
   "outputs": [],
   "source": [
    "#Visualização do viés de amostragem geográfica antes do \n",
    "#pré-processamento (em azul) e depois do pré-processamento (em vermelho) \n",
    "\n",
    "#Visualização do viés de amostragem geográfica\n",
    "Map = geemap.Map(layout={\"height\": \"400px\", \"width\": \"800px\"})\n",
    "\n",
    "#Adcionar o random raster layer\n",
    "random_raster = ee.Image.random().reproject(\"EPSG:4326\", None, grade_res)\n",
    "Map.addLayer(\n",
    "    random_raster,\n",
    "    {\"min\": 0, \"max\": 1, \"palette\": [\"black\", \"white\"], \"opacity\": 0.5},\n",
    "    \"Random Raster\",\n",
    ")\n",
    "\n",
    "#Adcionar os dados originais em azul\n",
    "#Map.addLayer(bot_ne_gee, {\"color\": \"blue\"}, \"Original data\")\n",
    "\n",
    "#Adcionar os dados depois do pré-processamento (em vermelho)\n",
    "#Map.addLayer(data, {\"color\": \"red\"}, \"Final data\")\n",
    "\n",
    "#Visualizar \n",
    "#Map"
   ]
  },
  {
   "cell_type": "markdown",
   "id": "b410f976-1713-4edb-bd49-9bc1c365c9ae",
   "metadata": {},
   "source": [
    "Definir Área de Estudo (AE)"
   ]
  },
  {
   "cell_type": "code",
   "execution_count": null,
   "id": "ceba5d39-7e6f-4552-a60f-5d3a7e3a499e",
   "metadata": {
    "tags": []
   },
   "outputs": [],
   "source": [
    "#Definir Área de Estudo (AE)\n",
    "AE = gpd.read_file(\"C:\\\\Users\\\\Alisson Medeiros\\\\tese_cap2\\\\shps\\\\recorte_dados_Intersect_BR.shp\")\n",
    "\n",
    "# Supondo que AE seja um GeoDataFrame do geopandas\n",
    "AE = geemap.geopandas_to_ee(AE)  # Converte para ee.FeatureCollection"
   ]
  },
  {
   "cell_type": "markdown",
   "id": "2ef84407-ed4f-42cb-9bb4-ea0279eb82d3",
   "metadata": {},
   "source": [
    "Adição de variáveis ​​ambientais GEE"
   ]
  },
  {
   "cell_type": "code",
   "execution_count": null,
   "id": "c116b1cf-5179-40b1-8f4d-dd84ecf20e8c",
   "metadata": {
    "tags": []
   },
   "outputs": [],
   "source": [
    "# WorldClim V1 Bioclim\n",
    "bio = ee.Image(\"projects/ee-geetese075/assets/wc_bio_30s\")\n",
    "\n",
    "# NASA SRTM Digital Elevation 30m\n",
    "dem_30 = ee.Image(\"USGS/SRTMGL1_003\")\n",
    "\n",
    "#Gerar variáveis do relevo para esta pesquisa: elevação e declividade\n",
    "elevation = dem_30\n",
    "slope = ee.Terrain.slope(dem_30)\n",
    "terrain = elevation.addBands(slope)\n",
    "\n",
    "#Global Forest Cover Change (GFCC) Tree Cover Multi-Year Global 30m\n",
    "tcc = ee.ImageCollection(\"NASA/MEASURES/GFCC/TC/v3\") #tree_canopy_cover = TCC\n",
    "median_tcc = (\n",
    "    tcc.filterDate(\"2000-01-01\", \"2015-12-31\")\n",
    "    .select([\"tree_canopy_cover\"], [\"TCC\"])\n",
    "    .median()\n",
    ")"
   ]
  },
  {
   "cell_type": "code",
   "execution_count": null,
   "id": "cf61cd54-4e39-4957-bb27-1101d2771262",
   "metadata": {
    "tags": []
   },
   "outputs": [],
   "source": [
    "#Combinar as variáveis em uma multibanda\n",
    "preditores = bio.addBands(terrain).addBands(median_tcc)\n",
    "\n",
    "#Criar máscara de água\n",
    "watermask = terrain.select('elevation').gt(0)\n",
    "\n",
    "#Aplicar máscara de água nos bandas preditoras e cortar para a AE\n",
    "preditores = preditores.updateMask(watermask).clip(AE)\n",
    "\n",
    "# Cria um mapa interativo\n",
    "#Map = geemap.Map()\n",
    "\n",
    "# Adiciona os preditores\n",
    "#Map.addLayer(preditores, {}, \"preditores\")\n",
    "\n",
    "# Exibe o mapa\n",
    "#Map"
   ]
  },
  {
   "cell_type": "markdown",
   "id": "b5d2c0ad-eefe-48a7-b078-686035d8a70f",
   "metadata": {},
   "source": [
    "CORRELAÇÃO ENTRE AS VARIÁVEIS (multicolinearidade)"
   ]
  },
  {
   "cell_type": "code",
   "execution_count": null,
   "id": "6521cc2e-7bd0-46b7-9b5d-e06b959b7c0a",
   "metadata": {
    "tags": []
   },
   "outputs": [],
   "source": [
    "#Gere 3.000 pontos aleatórios\n",
    "data_cor = preditores.sample(scale=grade_res, numPixels=1000, geometries=True, region=AE)\n",
    "\n",
    "#Extrair valores de variáveis preditoras\n",
    "pvals = preditores.sampleRegions(collection=data_cor, scale=grade_res)"
   ]
  },
  {
   "cell_type": "code",
   "execution_count": null,
   "id": "7aef9c95-7b4b-4ce1-8c63-45120fc5317a",
   "metadata": {
    "tags": []
   },
   "outputs": [],
   "source": [
    "#Convertendo valores preditores do Earth Engine para um DataFrame\n",
    "pvals_df = geemap.ee_to_df(pvals)\n",
    "pvals_df.head(1)"
   ]
  },
  {
   "cell_type": "code",
   "execution_count": null,
   "id": "80535e3a-5358-42d2-851d-8f977ed0261e",
   "metadata": {
    "tags": []
   },
   "outputs": [],
   "source": [
    "pvals_df\n",
    "#DOS 1000 PONTOS, 998 RETORNARAM VALORES VÁLIDOS (LINHAS SEM valores NaN)"
   ]
  },
  {
   "cell_type": "code",
   "execution_count": null,
   "id": "fa824e1c-d865-4894-8579-782b6f244403",
   "metadata": {
    "tags": []
   },
   "outputs": [],
   "source": [
    "#Correlação de Spearman\n",
    "corrS = pvals_df.corr(method = 'spearman')"
   ]
  },
  {
   "cell_type": "code",
   "execution_count": null,
   "id": "ab47f279-19ab-4ce4-a3c7-9799f967b04d",
   "metadata": {
    "tags": []
   },
   "outputs": [],
   "source": [
    "#Importar bibliotecas\n",
    "import matplotlib.pyplot as plt\n",
    "import seaborn as sns\n",
    "\n",
    "#Plotar gráfico\n",
    "plt.figure(figsize=(20, 15))\n",
    "sns.heatmap(corrS, annot = True, fmt=\".2f\", linewidths=0.5,); #fmt=\".2f\" reduz o número de casas, linewidths=0.5 ajusta espaçamento entre as células,\n",
    "plt.title(\"Matriz de Correlação de Spearman das variáveis preditoras\")\n",
    "plt.tight_layout()\n",
    "plt.savefig('Spearman_heatmap_plot.png')\n",
    "plt.show()"
   ]
  },
  {
   "cell_type": "markdown",
   "id": "6df4e4d4-8c8f-4d21-bd8d-4f38d3ccc763",
   "metadata": {
    "tags": []
   },
   "source": [
    "Fator de Inflação de Variância (VIF)\n",
    "\n",
    "O Fator de Inflação de Variância (VIF) é uma métrica estatística usada para avaliar multicolinearidade e orientar a seleção de variáveis. Ele indica o grau de relacionamento linear de cada variável independente com as outras variáveis ​​independentes, e altos valores de VIF podem ser evidências de multicolinearidade.\n",
    "\n",
    "Normalmente, quando os valores de VIF excedem 5 (Valores de VIF maiores que 5 indicam multicolinearidade moderada) ou 10 (Valores de VIF maiores que 10 indicam multicolinearidade grave), isso sugere que a variável tem uma forte correlação com outras variáveis, potencialmente comprometendo a estabilidade e a interpretabilidade do modelo. Neste tutorial, um critério de valores de VIF menores que 10 foi usado para seleção de variáveis. As 6 variáveis ​​a seguir foram selecionadas com base no VIF."
   ]
  },
  {
   "cell_type": "code",
   "execution_count": null,
   "id": "99552c5a-4a44-4205-b690-403a4a22bf8c",
   "metadata": {
    "tags": []
   },
   "outputs": [],
   "source": [
    "# Filtrar variáveis preditoras com base no  Fator de Inflação de Variância (VIF)\n",
    "def filtrar_var_por_vif(pvals_df, threshold=10):\n",
    "\n",
    "    original_columns = pvals_df.columns.tolist()\n",
    "    remaining_columns = original_columns[:]\n",
    "    \n",
    "    while True:\n",
    "        vif_data = pvals_df[remaining_columns]\n",
    "        vif_values = [\n",
    "            variance_inflation_factor(vif_data.values, i)\n",
    "            for i in range(vif_data.shape[1])\n",
    "        ]\n",
    "\n",
    "        max_vif_index = vif_values.index(max(vif_values))\n",
    "        max_vif = max(vif_values)\n",
    "\n",
    "        if max_vif < threshold:\n",
    "            break\n",
    "\n",
    "        print(f\"Removing '{remaining_columns[max_vif_index]}' with VIF {max_vif:.2f}\")\n",
    "\n",
    "        del remaining_columns[max_vif_index]\n",
    "        \n",
    "    filtered_data = pvals_df[remaining_columns]\n",
    "    bands = filtered_data.columns.tolist()\n",
    "    print(\"Bands:\", bands)\n",
    "\n",
    "    return filtered_data, bands"
   ]
  },
  {
   "cell_type": "code",
   "execution_count": null,
   "id": "240d38e0-a31d-47ec-8c49-d52c5d6252cd",
   "metadata": {
    "tags": []
   },
   "outputs": [],
   "source": [
    "filtered_pvals_df, bands = filtrar_var_por_vif(pvals_df)"
   ]
  },
  {
   "cell_type": "code",
   "execution_count": null,
   "id": "44d77dd2-ab50-453b-bd83-169744b282fe",
   "metadata": {
    "tags": []
   },
   "outputs": [],
   "source": [
    "#Selecionar variáveis com base no VIF\n",
    "preditores = preditores.select(bands)\n",
    "\n",
    "#Vizualizar as variáveis restantes\n",
    "\n",
    "# Cria um mapa interativo\n",
    "#Map = geemap.Map()\n",
    "\n",
    "# Adiciona os preditores\n",
    "#Map.addLayer(preditores, {}, \"preditores\")\n",
    "\n",
    "# Exibe o mapa\n",
    "#Map"
   ]
  },
  {
   "cell_type": "code",
   "execution_count": null,
   "id": "074ae42b-02eb-4132-8e6a-200abb09f7f3",
   "metadata": {
    "tags": []
   },
   "outputs": [],
   "source": [
    "#Importar bibliotecas\n",
    "import matplotlib.pyplot as plt\n",
    "import seaborn as sns\n",
    "\n",
    "#Correlação de Spearman das variáveis selecionadas\n",
    "corrS_s = filtered_pvals_df.corr(method = 'spearman')\n",
    "\n",
    "#Plotar gráfico\n",
    "plt.figure(figsize=(12, 10))\n",
    "sns.heatmap(corrS_s, annot = True, fmt=\".2f\", linewidths=0.5,); #fmt=\".2f\" reduz o número de casas, linewidths=0.5 ajusta espaçamento entre as células,\n",
    "plt.title(\"Matriz de Correlação de Spearman das variáveis preditoras selecionadas via VIF\")\n",
    "plt.tight_layout()\n",
    "plt.savefig('Spearman_heatmap_plot_variáveis_selecionadas_VIF.png')\n",
    "plt.show()"
   ]
  },
  {
   "cell_type": "markdown",
   "id": "e953080d-381a-4720-8bbe-2e2d7462fdd1",
   "metadata": {},
   "source": [
    "Geração de dados de pseudo-ausência"
   ]
  },
  {
   "cell_type": "code",
   "execution_count": null,
   "id": "10c319d8-0be2-418f-ab1f-89bb4fafc5d0",
   "metadata": {
    "tags": []
   },
   "outputs": [],
   "source": [
    "#Selecionar 200 locais de ocorrência de forma aleatória com base nos dados do GBIF sem viés de localização\n",
    "pvals = preditores.sampleRegions(\n",
    "    collection=data.randomColumn().sort('random').limit(200),\n",
    "    properties=[],\n",
    "    scale=grade_res\n",
    ")\n",
    "\n",
    "#Execultar k-means clustering\n",
    "clusterer = ee.Clusterer.wekaKMeans(\n",
    "    nClusters=2,\n",
    "    distanceFunction=\"Euclidean\"\n",
    ").train(pvals)\n",
    "\n",
    "cl_result = preditores.cluster(clusterer)\n",
    "\n",
    "#Obter ID de cluster para locais semelhantes à ocorrência (Amostrar 200 pontos aleatórios e identificar a qual cluster pertencem.)\n",
    "cl_id = cl_result.sampleRegions(\n",
    "    collection=data.randomColumn().sort('random').limit(200),\n",
    "    properties=[],\n",
    "    scale=grade_res\n",
    ")\n",
    "\n",
    "## Definir áreas de não ocorrência em clusters diferentes\n",
    "cl_id = ee.FeatureCollection(cl_id).reduceColumns(ee.Reducer.mode(),['cluster'])\n",
    "cl_id = ee.Number(cl_id.get('mode')).subtract(1).abs()\n",
    "cl_mask = cl_result.select(['cluster']).eq(cl_id)"
   ]
  },
  {
   "cell_type": "code",
   "execution_count": null,
   "id": "b09fccb5-ae4c-4a24-9786-b3ab47b29227",
   "metadata": {
    "tags": []
   },
   "outputs": [],
   "source": [
    "#Máscara dos locais de presença\n",
    "presence_mask = data.reduceToImage(properties=['random'],\n",
    "reducer=ee.Reducer.first()\n",
    ").reproject('EPSG:4326', None,\n",
    "            grade_res).mask().neq(1).selfMask()\n",
    "\n",
    "#Mascaramento de locais de presença em áreas de não ocorrência e recorte para AE\n",
    "area_for_pa = presence_mask.updateMask(cl_mask).clip(AE)"
   ]
  },
  {
   "cell_type": "markdown",
   "id": "6410d215-fe4b-4fca-ac38-94076df2807c",
   "metadata": {},
   "source": [
    "Ajuste e previsão do modelo - dividiremos os dados em dados de treinamento e dados de teste. Os dados de treinamento serão usados ​​para encontrar os parâmetros ótimos treinando o modelo, enquanto os dados de teste serão usados ​​para avaliar o modelo treinado previamente. "
   ]
  },
  {
   "cell_type": "code",
   "execution_count": null,
   "id": "d55d7f89-fadc-4c0f-8e18-9b3869cdab1b",
   "metadata": {
    "tags": []
   },
   "outputs": [],
   "source": [
    "# Definir a função para criar a grade sobre a área de interesse (AE)\n",
    "def make_grid(geometry, scale):\n",
    "    lon_lat = ee.Image.pixelLonLat()  # Cria imagem com bandas de longitude e latitude\n",
    "    \n",
    "    # Criar grades de longitude e latitude arredondadas para múltiplos de 100.000\n",
    "    lon_grid = lon_lat.select('longitude').multiply(100000).toInt()\n",
    "    lat_grid = lon_lat.select('latitude').multiply(100000).toInt()\n",
    "    \n",
    "    # Criar polígonos a partir dos valores da grade\n",
    "    return lon_grid.multiply(lat_grid).reduceToVectors(\n",
    "        geometry=geometry.geometry().buffer(20000, 1000),  # Buffer para garantir cobertura total da AE\n",
    "        scale=scale,\n",
    "        geometryType='polygon'\n",
    "    )\n",
    "\n",
    "#Definir Área de Estudo (AE)\n",
    "AE = gpd.read_file(\"C:\\\\Users\\\\Alisson Medeiros\\\\tese_cap2\\\\shps\\\\recorte_dados_Intersect_BR.shp\")\n",
    "\n",
    "# Supondo que AE seja um GeoDataFrame do geopandas\n",
    "AE = geemap.geopandas_to_ee(AE)  # Converte para ee.FeatureCollection\n",
    "\n",
    "# Criar a grade e remover células fora da AE\n",
    "Scale = 50000  # Define o tamanho dos blocos (50 km)\n",
    "grid = make_grid(AE, Scale)\n",
    "Grid = watermask.reduceRegions(collection=grid, reducer=ee.Reducer.mean()).filter(ee.Filter.neq('mean', None))\n",
    "\n",
    "# Criar o mapa e visualizar a grade\n",
    "#Map = geemap.Map()\n",
    "#Map.addLayer(Grid, {}, 'Grid for spatial block cross-validation')\n",
    "#Map.centerObject(AE, 6)\n",
    "#Map"
   ]
  },
  {
   "cell_type": "markdown",
   "id": "52fb70e9-5c78-4a9b-b568-a3872e458b7b",
   "metadata": {},
   "source": [
    "AJUSTE DO MODELO E EXECUÇÃO DO MODELO DE DISTRIBUIÇÃO DE GÊNEROS"
   ]
  },
  {
   "cell_type": "code",
   "execution_count": null,
   "id": "5a45a05d-ef52-4bea-aab8-df2a00ccb918",
   "metadata": {
    "tags": []
   },
   "outputs": [],
   "source": [
    "def sdm(x):\n",
    "    seed = ee.Number(x)\n",
    "\n",
    "    # Random block division for training and validation\n",
    "    rand_blk = ee.FeatureCollection(grid).randomColumn(seed=seed).sort(\"random\")\n",
    "    training_grid = rand_blk.filter(ee.Filter.lt(\"random\", split))  # Grid for training\n",
    "    testing_grid = rand_blk.filter(ee.Filter.gte(\"random\", split))  # Grid for testing\n",
    "\n",
    "    # Presence points\n",
    "    presence_points = ee.FeatureCollection(data)\n",
    "    presence_points = presence_points.map(lambda feature: feature.set(\"PresAbs\", 1))\n",
    "    tr_presence_points = presence_points.filter(\n",
    "        ee.Filter.bounds(training_grid)\n",
    "    )  # Presence points for training\n",
    "    te_presence_points = presence_points.filter(\n",
    "        ee.Filter.bounds(testing_grid)\n",
    "    )  # Presence points for testing\n",
    "\n",
    "    # Pseudo-absence points for training\n",
    "    tr_pseudo_abs_points = area_for_pa.sample(\n",
    "        region=training_grid,\n",
    "        scale=grade_res,\n",
    "        numPixels=tr_presence_points.size().add(300),\n",
    "        seed=seed,\n",
    "        geometries=True,\n",
    "    )\n",
    "    # Same number of pseudo-absence points as presence points for training\n",
    "    tr_pseudo_abs_points = (\n",
    "        tr_pseudo_abs_points.randomColumn()\n",
    "        .sort(\"random\")\n",
    "        .limit(ee.Number(tr_presence_points.size()))\n",
    "    )\n",
    "    tr_pseudo_abs_points = tr_pseudo_abs_points.map(lambda feature: feature.set(\"PresAbs\", 0))\n",
    "\n",
    "    te_pseudo_abs_points = area_for_pa.sample(\n",
    "        region=testing_grid,\n",
    "        scale=grade_res,\n",
    "        numPixels=te_presence_points.size().add(100),\n",
    "        seed=seed,\n",
    "        geometries=True,\n",
    "    )\n",
    "    # Same number of pseudo-absence points as presence points for testing\n",
    "    te_pseudo_abs_points = (\n",
    "        te_pseudo_abs_points.randomColumn()\n",
    "        .sort(\"random\")\n",
    "        .limit(ee.Number(te_presence_points.size()))\n",
    "    )\n",
    "    te_pseudo_abs_points = te_pseudo_abs_points.map(lambda feature: feature.set(\"PresAbs\", 0))\n",
    "\n",
    "    # Merge training and pseudo-absence points\n",
    "    training_partition = tr_presence_points.merge(tr_pseudo_abs_points)\n",
    "    testing_partition = te_presence_points.merge(te_pseudo_abs_points)\n",
    "\n",
    "    # Extract predictor variable values at training points\n",
    "    train_pvals = preditores.sampleRegions(\n",
    "        collection=training_partition,\n",
    "        properties=[\"PresAbs\"],\n",
    "        scale=grade_res,\n",
    "        geometries=True,\n",
    "    )\n",
    "\n",
    "    # Random Forest classifier\n",
    "    classifier = ee.Classifier.smileRandomForest(\n",
    "        numberOfTrees=100,\n",
    "        variablesPerSplit=None,\n",
    "        minLeafPopulation=10,\n",
    "        bagFraction=0.5,\n",
    "        maxNodes=None,\n",
    "        seed=seed,\n",
    "    )\n",
    "    # Presence probability: Habitat suitability map\n",
    "    classifier_pr = classifier.setOutputMode(\"PROBABILITY\").train(\n",
    "        train_pvals, \"PresAbs\", bands\n",
    "    )\n",
    "    classified_img_pr = preditores.select(bands).classify(classifier_pr)\n",
    "\n",
    "    # Binary presence/absence map: Potential distribution map\n",
    "    classifier_bin = classifier.setOutputMode(\"CLASSIFICATION\").train(\n",
    "        train_pvals, \"PresAbs\", bands\n",
    "    )\n",
    "    classified_img_bin = preditores.select(bands).classify(classifier_bin)\n",
    "\n",
    "    return [\n",
    "        classified_img_pr,\n",
    "        classified_img_bin,\n",
    "        training_partition,\n",
    "        testing_partition,\n",
    "    ], classifier_pr"
   ]
  },
  {
   "cell_type": "markdown",
   "id": "fac37039-b71d-4e1d-b661-200f7994d368",
   "metadata": {
    "tags": []
   },
   "source": [
    "Este trecho de código está configurando um gerador de números aleatórios e criando uma lista de sementes aleatórias para execução de experimentos em Random Forest ou outros modelos que requerem aleatoriedade. O código também define dois métodos para gerar sementes: uma aleatória e uma fixa.\n",
    "\n"
   ]
  },
  {
   "cell_type": "code",
   "execution_count": null,
   "id": "4393bd7c-a045-4537-80c1-de1b5e00da27",
   "metadata": {
    "tags": []
   },
   "outputs": [],
   "source": [
    "#Divisão de treino e teste (split) (Define a proporção de dados a ser usada para o conjunto de treinamento. Neste caso, 70% )\n",
    "split = 0.7\n",
    "\n",
    "#Número de iterações (numiter) ( número de iterações ou execuções a serem realizadas, em uma sequência de experimentos para avaliar a robustez do modelo)\n",
    "numiter = 10\n",
    "\n",
    "#Geração de sementes aleatórias (runif)\n",
    "#runif = lambda length: [random.randint(1, 1000) for _ in range(length)]\n",
    "#runif\n",
    "#runif = [35,68,43,54,17,46,76,88,24,12]\n",
    "items = [35,68,43,54,17,46,76,88,24,12]\n",
    "#Define uma função lambda que gera uma lista de números aleatórios dentro do intervalo de 1 a 1000. \n",
    "#O parâmetro length define quantos números aleatórios serão gerados.\n",
    "#Chama a função runif com numiter = 10, gerando uma lista de 10 números aleatórios entre 1 e 1000. \n",
    "#Esses números são usados como sementes para o modelo, permitindo reprodutibilidade.\n",
    "\n",
    "#Sementes fixas\n",
    "#items#[134, 390, 241, 749, 460, 902, 902, 749, 690, 909]"
   ]
  },
  {
   "cell_type": "markdown",
   "id": "3cae6b32-8483-48e7-bea4-a1d384740637",
   "metadata": {},
   "source": [
    "Este trecho de código executa um loop sobre um conjunto de sementes aleatórias para treinar o modelo de modelagem de distribuição de espécies (SDM) múltiplas vezes e acumula os resultados da probabilidade de presença, bem como a importância das variáveis. O código usa essas iterações para armazenar as previsões e a importância das variáveis para cada iteração."
   ]
  },
  {
   "cell_type": "code",
   "execution_count": null,
   "id": "926a70c7-3c18-4abe-aadc-c420557fbf93",
   "metadata": {
    "tags": []
   },
   "outputs": [],
   "source": [
    "results_list = [] # Initialize SDM results list\n",
    "importances_list = [] # Initialize variable importance list\n",
    "\n",
    "for item in items:\n",
    "    result, trained = sdm(item)\n",
    "    # Accumulate SDM results into the list\n",
    "    results_list.extend(result)\n",
    "\n",
    "    # Accumulate variable importance into the list\n",
    "    importance = ee.Dictionary(trained.explain()).get('importance')\n",
    "    importances_list.extend(importance.getInfo().items())\n",
    "\n",
    "# Flatten the SDM results list\n",
    "results = ee.List(results_list).flatten()"
   ]
  },
  {
   "cell_type": "code",
   "execution_count": null,
   "id": "f19ffc23-c8b9-4321-975a-75ec33b6a067",
   "metadata": {
    "tags": []
   },
   "outputs": [],
   "source": [
    "# Habitat suitability map\n",
    "images = ee.List.sequence(\n",
    "    0, ee.Number(numiter).multiply(4).subtract(1), 4).map(\n",
    "    lambda x: results.get(x))\n",
    "model_average = ee.ImageCollection.fromImages(images).mean()\n",
    "\n",
    "Map = geemap.Map(layout={'height':'400px', 'width':'800px'}, basemap='Esri.WorldImagery')\n",
    "\n",
    "vis_params = {\n",
    "    'min': 0,\n",
    "    'max': 1,\n",
    "    'palette': cm.palettes.viridis_r}\n",
    "Map.addLayer(model_average, vis_params, 'Habitat suitability')\n",
    "Map.add_colorbar(vis_params, label=\"Habitat suitability\",\n",
    "                 orientation=\"horizontal\",\n",
    "                 layer_name=\"Habitat suitability\")\n",
    "Map.addLayer(data, {'color':'red'}, 'Presence')\n",
    "Map.centerObject(AE, 8)\n",
    "Map"
   ]
  },
  {
   "cell_type": "code",
   "execution_count": null,
   "id": "d665b28d-b8d3-484f-b797-d16c525d7a52",
   "metadata": {
    "tags": []
   },
   "outputs": [],
   "source": [
    "# Potential distribution map\n",
    "images2 = ee.List.sequence(1, ee.Number(numiter).multiply(4).subtract(1), 4).map(\n",
    "    lambda x: results.get(x)\n",
    ")\n",
    "distribution_map = ee.ImageCollection.fromImages(images2).mode()\n",
    "\n",
    "Map = geemap.Map(\n",
    "    layout={\"height\": \"400px\", \"width\": \"800px\"}, basemap=\"Esri.WorldImagery\"\n",
    ")\n",
    "\n",
    "vis_params = {\"min\": 0, \"max\": 1, \"palette\": [\"white\", \"green\"]}\n",
    "Map.addLayer(distribution_map, vis_params, \"Potential distribution\")\n",
    "Map.addLayer(data, {\"color\": \"red\"}, \"Presence\")\n",
    "Map.add_colorbar(\n",
    "    vis_params,\n",
    "    label=\"Potential distribution\",\n",
    "    discrete=True,\n",
    "    orientation=\"horizontal\",\n",
    "    layer_name=\"Potential distribution\",\n",
    ")\n",
    "Map.centerObject(data.geometry(), 6)\n",
    "Map"
   ]
  },
  {
   "cell_type": "markdown",
   "id": "d8c713c6-4f63-4d1a-bb02-b42fb87b0620",
   "metadata": {},
   "source": [
    "Avaliação da importância e precisão das variáveis"
   ]
  },
  {
   "cell_type": "code",
   "execution_count": null,
   "id": "16d86588-8dc5-4133-a05c-f2aa1a8f3f70",
   "metadata": {
    "tags": []
   },
   "outputs": [],
   "source": [
    "def plot_variable_importance(importances_list):\n",
    "    # Extract each variable importance value into a list\n",
    "    variables = [item[0] for item in importances_list]\n",
    "    importances = [item[1] for item in importances_list]\n",
    "\n",
    "    # Calculate the average importance for each variable\n",
    "    average_importances = {}\n",
    "    for variable in set(variables):\n",
    "        indices = [i for i, var in enumerate(variables) if var == variable]\n",
    "        average_importance = np.mean([importances[i] for i in indices])\n",
    "        average_importances[variable] = average_importance\n",
    "\n",
    "    # Sort the importances in descending order of importance\n",
    "    sorted_importances = sorted(average_importances.items(),\n",
    "                                key=lambda x: x[1], reverse=False)\n",
    "    variables = [item[0] for item in sorted_importances]\n",
    "    avg_importances = [item[1] for item in sorted_importances]\n",
    "\n",
    "    # Adjust the graph size\n",
    "    plt.figure(figsize=(8, 4))\n",
    "\n",
    "    # Plot the average importance as a horizontal bar chart\n",
    "    plt.barh(variables, avg_importances)\n",
    "    plt.xlabel('Importância')\n",
    "    plt.ylabel('Variáveis')\n",
    "    plt.title('Importância média das variáveis - MODELO 2')\n",
    "\n",
    "    # Display values above the bars\n",
    "    for i, v in enumerate(avg_importances):\n",
    "        plt.text(v + 0.02, i, f\"{v:.2f}\", va='center')\n",
    "\n",
    "    # Adjust the x-axis range\n",
    "    plt.xlim(0, max(avg_importances) + 5)  # Adjust to the desired range\n",
    "\n",
    "    plt.tight_layout()\n",
    "    plt.savefig('M2importancia_variáveis.png')\n",
    "    plt.show()"
   ]
  },
  {
   "cell_type": "code",
   "execution_count": null,
   "id": "46034d18-47b9-4969-a9cb-644292f8bdb7",
   "metadata": {
    "tags": []
   },
   "outputs": [],
   "source": [
    "plot_variable_importance(importances_list)"
   ]
  },
  {
   "cell_type": "markdown",
   "id": "2b391266-f513-497e-a680-3f8e48119f6b",
   "metadata": {},
   "source": [
    "Este script calcula as métricas AUC-ROC e AUC-PR para um conjunto de imagens de modelos de distribuição de espécies usando dados de teste. Ele também gera estatísticas descritivas, como média e desvio padrão das métricas."
   ]
  },
  {
   "cell_type": "code",
   "execution_count": null,
   "id": "90b88f47-af18-4e9d-809e-ebd5d890177e",
   "metadata": {
    "tags": []
   },
   "outputs": [],
   "source": [
    "def print_pres_abs_sizes(TestingDatasets, numiter):\n",
    "    # Check and print the sizes of presence and pseudo-absence coordinates\n",
    "    def get_pres_abs_size(x):\n",
    "        fc = ee.FeatureCollection(TestingDatasets.get(x))\n",
    "        presence_size = fc.filter(ee.Filter.eq(\"PresAbs\", 1)).size()\n",
    "        pseudo_absence_size = fc.filter(ee.Filter.eq(\"PresAbs\", 0)).size()\n",
    "        return ee.List([presence_size, pseudo_absence_size])\n",
    "\n",
    "    sizes_info = (\n",
    "        ee.List.sequence(0, ee.Number(numiter).subtract(1), 1)\n",
    "        .map(get_pres_abs_size)\n",
    "        .getInfo()\n",
    "    )\n",
    "\n",
    "    for i, sizes in enumerate(sizes_info):\n",
    "        presence_size = sizes[0]\n",
    "        pseudo_absence_size = sizes[1]\n",
    "        print(\n",
    "            f\"Iteration {i + 1}: Presence Size = {presence_size}, Pseudo-absence Size = {pseudo_absence_size}\"\n",
    "        )"
   ]
  },
  {
   "cell_type": "code",
   "execution_count": null,
   "id": "a11918ab-3bf6-4e30-b24c-3d86c65fb384",
   "metadata": {
    "tags": []
   },
   "outputs": [],
   "source": [
    "# Extracting the Testing Datasets\n",
    "testing_datasets = ee.List.sequence(\n",
    "    3, ee.Number(numiter).multiply(4).subtract(1), 4\n",
    ").map(lambda x: results.get(x))\n",
    "\n",
    "print_pres_abs_sizes(testing_datasets, numiter)"
   ]
  },
  {
   "cell_type": "code",
   "execution_count": null,
   "id": "a32d501d-e00e-4bec-8816-8a4de820c84e",
   "metadata": {
    "tags": []
   },
   "outputs": [],
   "source": [
    "hsm = ee.Image(images.get(x))\n",
    "t_data = ee.FeatureCollection(testing_datasets.get(x))\n",
    "\n",
    "def get_acc(hsm, t_data, grade_res):\n",
    "    pr_prob_vals = hsm.sampleRegions(\n",
    "        collection=t_data, properties=[\"PresAbs\"], scale=grade_res\n",
    "    )\n",
    "    seq = ee.List.sequence(start=0, end=1, count=25)  # Divide 0 to 1 into 25 intervals\n",
    "\n",
    "    def calculate_metrics(cutoff):\n",
    "        # Each element of the seq list is passed as cutoff(threshold value)\n",
    "\n",
    "        # Observed present = TP + FN\n",
    "        pres = pr_prob_vals.filterMetadata(\"PresAbs\", \"equals\", 1)\n",
    "\n",
    "        # TP (True Positive)\n",
    "        tp = ee.Number(\n",
    "            pres.filterMetadata(\"classification\", \"greater_than\", cutoff).size()\n",
    "        )\n",
    "\n",
    "        # TPR (True Positive Rate) = Recall = Sensitivity = TP / (TP + FN) = TP / Observed present\n",
    "        tpr = tp.divide(pres.size())\n",
    "\n",
    "        # Observed absent = FP + TN\n",
    "        abs = pr_prob_vals.filterMetadata(\"PresAbs\", \"equals\", 0)\n",
    "\n",
    "        # FN (False Negative)\n",
    "        fn = ee.Number(\n",
    "            pres.filterMetadata(\"classification\", \"less_than\", cutoff).size()\n",
    "        )\n",
    "\n",
    "        # TNR (True Negative Rate) = Specificity = TN  / (FP + TN) = TN / Observed absent\n",
    "        tn = ee.Number(abs.filterMetadata(\"classification\", \"less_than\", cutoff).size())\n",
    "        tnr = tn.divide(abs.size())\n",
    "\n",
    "        # FP (False Positive)\n",
    "        fp = ee.Number(\n",
    "            abs.filterMetadata(\"classification\", \"greater_than\", cutoff).size()\n",
    "        )\n",
    "\n",
    "        # FPR (False Positive Rate) = FP / (FP + TN) = FP / Observed absent\n",
    "        fpr = fp.divide(abs.size())\n",
    "\n",
    "        # Precision = TP / (TP + FP) = TP / Predicted present\n",
    "        precision = tp.divide(tp.add(fp))\n",
    "\n",
    "        # SUMSS = SUM of Sensitivity and Specificity\n",
    "        sumss = tpr.add(tnr)\n",
    "\n",
    "        return ee.Feature(\n",
    "            None,\n",
    "            {\n",
    "                \"cutoff\": cutoff,\n",
    "                \"TP\": tp,\n",
    "                \"TN\": tn,\n",
    "                \"FP\": fp,\n",
    "                \"FN\": fn,\n",
    "                \"TPR\": tpr,\n",
    "                \"TNR\": tnr,\n",
    "                \"FPR\": fpr,\n",
    "                \"Precision\": precision,\n",
    "                \"SUMSS\": sumss,\n",
    "            },\n",
    "        )\n",
    "\n",
    "    return ee.FeatureCollection(seq.map(calculate_metrics))"
   ]
  },
  {
   "cell_type": "code",
   "execution_count": null,
   "id": "14051000-59d7-4a51-bbaf-1ca375664d95",
   "metadata": {
    "tags": []
   },
   "outputs": [],
   "source": [
    "def calculate_and_print_auc_metrics(images, testing_datasets, grade_res, numiter):\n",
    "    # Calculate AUC-ROC and AUC-PR\n",
    "    def calculate_auc_metrics(x):\n",
    "        hsm = ee.Image(images.get(x))\n",
    "        t_data = ee.FeatureCollection(testing_datasets.get(x))\n",
    "        acc = get_acc(hsm, t_data, grade_res)\n",
    "\n",
    "        # Calculate AUC-ROC\n",
    "        x = ee.Array(acc.aggregate_array(\"FPR\"))\n",
    "        y = ee.Array(acc.aggregate_array(\"TPR\"))\n",
    "        x1 = x.slice(0, 1).subtract(x.slice(0, 0, -1))\n",
    "        y1 = y.slice(0, 1).add(y.slice(0, 0, -1))\n",
    "        auc_roc = x1.multiply(y1).multiply(0.5).reduce(\"sum\", [0]).abs().toList().get(0)\n",
    "\n",
    "        # Calculate AUC-PR\n",
    "        x = ee.Array(acc.aggregate_array(\"TPR\"))\n",
    "        y = ee.Array(acc.aggregate_array(\"Precision\"))\n",
    "        x1 = x.slice(0, 1).subtract(x.slice(0, 0, -1))\n",
    "        y1 = y.slice(0, 1).add(y.slice(0, 0, -1))\n",
    "        auc_pr = x1.multiply(y1).multiply(0.5).reduce(\"sum\", [0]).abs().toList().get(0)\n",
    "\n",
    "        return (auc_roc, auc_pr)\n",
    "\n",
    "    auc_metrics = (\n",
    "        ee.List.sequence(0, ee.Number(numiter).subtract(1), 1)\n",
    "        .map(calculate_auc_metrics)\n",
    "        .getInfo()\n",
    "    )\n",
    "\n",
    "    # Print AUC-ROC and AUC-PR for each iteration\n",
    "    df = pd.DataFrame(auc_metrics, columns=[\"AUC-ROC\", \"AUC-PR\"])\n",
    "    df.index = [f\"Iteration {i + 1}\" for i in range(len(df))]\n",
    "    df.to_csv(\"auc_metrics.csv\", index_label=\"Iteration\")\n",
    "    print(df)\n",
    "\n",
    "    # Calculate mean and standard deviation of AUC-ROC and AUC-PR\n",
    "    mean_auc_roc, std_auc_roc = df[\"AUC-ROC\"].mean(), df[\"AUC-ROC\"].std()\n",
    "    mean_auc_pr, std_auc_pr = df[\"AUC-PR\"].mean(), df[\"AUC-PR\"].std()\n",
    "    print(f\"Mean AUC-ROC = {mean_auc_roc:.4f} ± {std_auc_roc:.4f}\")\n",
    "    print(f\"Mean AUC-PR = {mean_auc_pr:.4f} ± {std_auc_pr:.4f}\")"
   ]
  },
  {
   "cell_type": "code",
   "execution_count": null,
   "id": "d8546120-4459-4f6d-bef8-93ae4b801f83",
   "metadata": {
    "tags": []
   },
   "outputs": [],
   "source": [
    "%%time\n",
    "\n",
    "# Calculate AUC-ROC and AUC-PR\n",
    "calculate_and_print_auc_metrics(images, testing_datasets, grade_res, numiter)"
   ]
  }
 ],
 "metadata": {
  "kernelspec": {
   "display_name": "Python 3 (ipykernel)",
   "language": "python",
   "name": "python3"
  },
  "language_info": {
   "codemirror_mode": {
    "name": "ipython",
    "version": 3
   },
   "file_extension": ".py",
   "mimetype": "text/x-python",
   "name": "python",
   "nbconvert_exporter": "python",
   "pygments_lexer": "ipython3",
   "version": "3.10.11"
  }
 },
 "nbformat": 4,
 "nbformat_minor": 5
}
